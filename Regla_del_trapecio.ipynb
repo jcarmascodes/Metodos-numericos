{
  "nbformat": 4,
  "nbformat_minor": 0,
  "metadata": {
    "colab": {
      "provenance": []
    },
    "kernelspec": {
      "name": "python3",
      "display_name": "Python 3"
    },
    "language_info": {
      "name": "python"
    }
  },
  "cells": [
    {
      "cell_type": "markdown",
      "source": [
        "#Regla del trapecio\n",
        "La *regla del trapecio* es la primera de las fórmulas cerradas de integración de Newton-Cotes. Corresponde al caso donde el polinomio de aproximación es de primer grado:\n",
        "\\begin{equation}\n",
        "I=\\int_a^bf(x)dx\\cong\\int_a^bf_1(x)dx\n",
        "\\end{equation}\n",
        "donde\n",
        "\\begin{equation}\n",
        "f_1(x)=f(a)+\\frac{f(b)-f(a)}{b-a}(x-a)\n",
        "\\nonumber\n",
        "\\end{equation}\n",
        "\n",
        "sustituyendo en la integral e integrando, el resultado es\n",
        "\\begin{equation}\n",
        "I=(b-a)\\frac{f(b)+f(a)}{2}\n",
        "\\end{equation}\n",
        "esta es la fórmula de la regla del trapecio.\n",
        "\n",
        "Una forma de mejorar la precisión de la regla del trapecio consiste en dividir el intervalo de integración de $a$ a $b$ en varios segmentos, y aplicar el método a cada uno de ellos. Las áreas se suman para obtener la integral de todo el intervalo. Las fórmulas resultantes se llaman *fórmulas de integración de aplicación múltiple o compuestas*.\n",
        "\n",
        "Realizando cada integral la fórmula del trapecio queda como\n",
        "\\begin{equation}\n",
        "I=(b-a)\\frac{f(x_0)+2\\sum_{i=1}^{n-1}f(x_i)+f(x_n)}{2n}\n",
        "\\end{equation}"
      ],
      "metadata": {
        "id": "oBHRAVNckY4l"
      }
    },
    {
      "cell_type": "markdown",
      "source": [
        "#Ejemplo:"
      ],
      "metadata": {
        "id": "RwXbHXjQ7hsf"
      }
    },
    {
      "cell_type": "code",
      "source": [
        "#Código hecho por: Diana Ailed Hernández Bustos\n",
        "import numpy as np\n",
        "import matplotlib.pyplot as plt\n",
        "import scipy.integrate as integrate\n",
        "from scipy.integrate import quad\n",
        "\n",
        "def func(x):\n",
        "    return x*np.exp(x)\n",
        "\n",
        "def trapecio(x, d, h):\n",
        "    fx0=func(a)\n",
        "    fxn=func(b)\n",
        "    suma = 0\n",
        "    for i in range (d):\n",
        "        if i == (d-1):\n",
        "            I1 = 0.5*h\n",
        "            I2 = fx0 + fxn\n",
        "            I = (suma + I2)*I1\n",
        "\n",
        "        elif i!= (d-2):\n",
        "            p = i+1\n",
        "            suma = suma + 2*func(x[p])\n",
        "    return I\n",
        "\n",
        "def grafica(x, a, b, d):\n",
        "    #Gráfica:\n",
        "    k = 100\n",
        "    x1 = np.linspace(a, b, k)\n",
        "    fx = np.zeros([k])\n",
        "    y = np.zeros([d])\n",
        "\n",
        "    for i in range (k):\n",
        "        fx[i] = func(x1[i])\n",
        "\n",
        "    for i in range (d):\n",
        "        y[i] = func(x[i])\n",
        "\n",
        "    plt.title('Integración')\n",
        "    plt.xlabel('x')\n",
        "    plt.ylabel('f(x)')\n",
        "    plt.plot(x1, fx ,color=\"blue\",linewidth=2, label= \"Función\")\n",
        "    plt.scatter(x, y, color='black', label = 'Intérvalos')\n",
        "    plt.legend()\n",
        "    plt.show()\n",
        "    return y"
      ],
      "metadata": {
        "id": "8rBBDdIQ_fyZ"
      },
      "execution_count": null,
      "outputs": []
    },
    {
      "cell_type": "code",
      "source": [
        "n = 4         # Intervalos\n",
        "a = 1\n",
        "b = 2\n",
        "h = (b-a)/n\n",
        "\n",
        "p = n+1       # No de puntos = intervalos + 1\n",
        "x = np.linspace(a,b,p)\n",
        "d = len(x)\n",
        "\n",
        "#Integral analítica:\n",
        "integral, err = integrate.quad(func, a, b)\n",
        "A = integral # Valor analítico\n",
        "\n",
        "#Cálculos:\n",
        "I = trapecio (x, d, h)\n",
        "et = np.abs((A-I)/A)*100\n",
        "print(\"REGLA DEL TRAPECIO:\")\n",
        "print(\"Valor obtenido: %.8f\" %I)\n",
        "print(\"Valor analítico: %.8f\" %A)\n",
        "print(\"Error porcentual : %.8f\" %et)\n",
        "\n",
        "#Gráfica:\n",
        "j = grafica(x, a, b, d)"
      ],
      "metadata": {
        "colab": {
          "base_uri": "https://localhost:8080/",
          "height": 541
        },
        "id": "EUVdIbbv_1s_",
        "outputId": "cf917c3c-43ad-4888-8cd4-db3e9082a6e7"
      },
      "execution_count": null,
      "outputs": [
        {
          "output_type": "stream",
          "name": "stdout",
          "text": [
            "REGLA DEL TRAPECIO:\n",
            "Valor obtenido: 7.47605350\n",
            "Valor analítico: 7.38905610\n",
            "Error porcentual : 1.17738179\n"
          ]
        },
        {
          "output_type": "display_data",
          "data": {
            "text/plain": [
              "<Figure size 640x480 with 1 Axes>"
            ],
            "image/png": "[encoded data removed]"
          },
          "metadata": {}
        }
      ]
    }
  ]
}