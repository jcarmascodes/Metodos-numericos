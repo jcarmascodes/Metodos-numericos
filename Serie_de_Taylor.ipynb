{
  "nbformat": 4,
  "nbformat_minor": 0,
  "metadata": {
    "colab": {
      "provenance": []
    },
    "kernelspec": {
      "name": "python3",
      "display_name": "Python 3"
    },
    "language_info": {
      "name": "python"
    }
  },
  "cells": [
    {
      "cell_type": "markdown",
      "source": [
        "#Serie de Taylor\n",
        "La serie de Taylor esté dada por\n",
        "\n",
        "\\begin{equation}\n",
        "f(x_{i+1})=f(x_i)+f'(x_i)h+\\frac{f''(x_i)}{2!}h^2+...+\\frac{f^n(x_i)}{2!}h^n+R_n\n",
        "\\end{equation}\n",
        "donde $h=x_{i+1}-x_i$ y\n",
        "\\begin{equation}\n",
        "R_n=\\frac{f^{n+1}(\\xi)}{(n+1)!}h^{n+1}\n",
        "\\end{equation}\n"
      ],
      "metadata": {
        "id": "napFJjNd3mzb"
      }
    },
    {
      "cell_type": "markdown",
      "source": [
        "#Ejemplo:"
      ],
      "metadata": {
        "id": "5deaz1Fz64m_"
      }
    },
    {
      "cell_type": "code",
      "source": [
        "#Código creado por:\n",
        "#Diana Ailed Hernández Bustos\n",
        "#2020\n",
        "\n",
        "#Serie de Taylor para cos(x)\n",
        "import numpy as np\n",
        "from math import*\n",
        "from tabulate import tabulate\n",
        "\n",
        "x0= pi/4\n",
        "x1 = pi/3\n",
        "h = (x1 - x0)\n",
        "fx1 = cos(x1)\n",
        "print(fx1)\n",
        "\n",
        "lista =[\"cosx\", \"-senx\", \"-cosx\", \"senx\", \"cosx\", \"-senx\", \"-cosx\"]"
      ],
      "metadata": {
        "colab": {
          "base_uri": "https://localhost:8080/"
        },
        "id": "QV89vtjG6690",
        "outputId": "db6cac9c-5db0-4287-d241-acdb20efd8af"
      },
      "execution_count": 6,
      "outputs": [
        {
          "output_type": "stream",
          "name": "stdout",
          "text": [
            "0.5000000000000001\n"
          ]
        }
      ]
    },
    {
      "cell_type": "code",
      "source": [
        "#Funciones:\n",
        "\n",
        "def fun(x0):\n",
        "    return cos(x0)\n",
        "\n",
        "def dif1(x0, i):\n",
        "    return -sin(x0)"
      ],
      "metadata": {
        "id": "1OHE-KLB7g7H"
      },
      "execution_count": 7,
      "outputs": []
    },
    {
      "cell_type": "code",
      "source": [
        "print( \"Orden n\\t    Derivada\\t  f(x1)    \\t  Et % \")\n",
        "\n",
        "\n",
        "for i in range(0, 7):\n",
        "    while i == 0:\n",
        "        b = fun(x0)\n",
        "        Et = ((fx1 - b)/fx1)*100\n",
        "        print('{}\\t    {}\\t   {:.8f}\\t   {:.4f}'.format(i, lista[i], b, Et))\n",
        "\n",
        "        break\n",
        "\n",
        "    if i == 1:\n",
        "        op = (dif1(x0, i)* pow(h, i)/factorial(i)) + b\n",
        "        b = op\n",
        "        Et = ((fx1 - op)/fx1)*100\n",
        "        print('{}\\t    {}\\t   {:.8f}\\t   {:.4f}'.format(i, lista[i], b, Et))\n",
        "\n",
        "\n",
        "    if i == 2:\n",
        "        op = (-1*fun(x0)* pow(h, i)/factorial(i)) + b\n",
        "        b = op\n",
        "        Et = ((fx1 - op)/fx1)*100\n",
        "        Et = ((fx1 - op)/fx1)*100\n",
        "        print('{}\\t    {}\\t   {:.8f}\\t   {:.4f}'.format(i, lista[i], b, Et))\n",
        "\n",
        "    if i == 3:\n",
        "        op = (-1*dif1(x0, i)* pow(h, i)/factorial(i)) + b\n",
        "        b = op\n",
        "        Et = ((fx1 - op)/fx1)*100\n",
        "        Et = ((fx1 - op)/fx1)*100\n",
        "        print('{}\\t    {}\\t   {:.8f}\\t   {:.4f}'.format(i, lista[i], b, Et))\n",
        "\n",
        "    if i == 4:\n",
        "        op = (fun(x0)* pow(h, i)/factorial(i)) + b\n",
        "        b = op\n",
        "        Et = ((fx1 - op)/fx1)*100\n",
        "\n",
        "        Et = ((fx1 - op)/fx1)*100\n",
        "        print('{}\\t    {}\\t   {:.8f}\\t   {:.6f}'.format(i, lista[i], b, Et))\n",
        "\n",
        "    if i == 5:\n",
        "        op = (dif1(x0, i)* pow(h, i)/factorial(i)) + b\n",
        "        b = op\n",
        "        Et = ((fx1 - op)/fx1)*100\n",
        "\n",
        "        Et = ((fx1 - op)/fx1)*100\n",
        "        print('{}\\t    {}\\t   {:.8f}\\t   {:.6f}'.format(i, lista[i], b, Et))\n",
        "\n",
        "    if i == 6:\n",
        "        op = (-1*fun(x0)* pow(h, i)/factorial(i)) + b\n",
        "        b = op\n",
        "        Et = ((fx1 - op)/fx1)*100\n",
        "\n",
        "        Et = ((fx1 - op)/fx1)*100\n",
        "        print('{}\\t    {}\\t   {:.8f}\\t   {:.6f}'.format(i, lista[i], b, Et))"
      ],
      "metadata": {
        "id": "TxQdYAsU7nuB",
        "outputId": "a7571343-6715-4cee-cb78-a249561bd662",
        "colab": {
          "base_uri": "https://localhost:8080/"
        }
      },
      "execution_count": 8,
      "outputs": [
        {
          "output_type": "stream",
          "name": "stdout",
          "text": [
            "Orden n\t    Derivada\t  f(x1)    \t  Et % \n",
            "0\t    cosx\t   0.70710678\t   -41.4214\n",
            "1\t    -senx\t   0.52198666\t   -4.3973\n",
            "2\t    -cosx\t   0.49775449\t   0.4491\n",
            "3\t    senx\t   0.49986915\t   0.0262\n",
            "4\t    cosx\t   0.50000755\t   -0.001510\n",
            "5\t    -senx\t   0.50000030\t   -0.000061\n",
            "6\t    -cosx\t   0.49999999\t   0.000002\n"
          ]
        }
      ]
    },
    {
      "cell_type": "markdown",
      "source": [
        "#Ejemplo 2:\n",
        "#$f(x)=cos^2x$"
      ],
      "metadata": {
        "id": "q3zs0yDv_f-a"
      }
    },
    {
      "cell_type": "code",
      "source": [
        "x0= pi/4\n",
        "x1 = pi/3\n",
        "h = (x1 - x0)\n",
        "fx1 = pow (cos(x1), 2)\n",
        "print(fx1)\n",
        "\n",
        "lista =[\"cos^2(x)\", \"-2cosx*senx\",\"2(sen^2(x)-cos^2(x))\", \"8(cosx*senx)\", \"-8(sen^2(x) -cos^2(x))\",\"-32(cosx*senx)\", \"32(sen^2(x) -cos^2(x))\"]\n",
        "\n",
        "#print (lista)"
      ],
      "metadata": {
        "colab": {
          "base_uri": "https://localhost:8080/"
        },
        "id": "AVQFCGG8AHjR",
        "outputId": "b6b907b8-f8a9-4d21-8f76-aefbfa44dd5a"
      },
      "execution_count": 9,
      "outputs": [
        {
          "output_type": "stream",
          "name": "stdout",
          "text": [
            "0.2500000000000001\n"
          ]
        }
      ]
    },
    {
      "cell_type": "code",
      "source": [
        "#Funciones:\n",
        "def fun(x0):\n",
        "    z = pow(cos(x0), 2)\n",
        "    return z\n",
        "\n",
        "def dif1(x0):\n",
        "    return (cos(x0))*(sin(x0))\n",
        "\n",
        "def dif2(x0):\n",
        "    return ((sin(x0))**2- (cos(x0))**2)\n",
        "\n",
        "#print(dif2(1))"
      ],
      "metadata": {
        "id": "aKiv76p5AUU4"
      },
      "execution_count": 10,
      "outputs": []
    },
    {
      "cell_type": "code",
      "source": [
        "print( \"Orden n\\t    Derivada\\t\\t\\t    f(x1) \\t\\tEt % \")\n",
        "\n",
        "for i in range(0, 7):\n",
        "    while i == 0:\n",
        "        b = fun(x0)\n",
        "        Et = ((fx1 - b)/fx1)*100\n",
        "        print('{}\\t    {}\\t\\t\\t    {:.8f}\\t   {:.4f}'.format(i, lista[i], b, Et))\n",
        "\n",
        "        break\n",
        "\n",
        "    if i == 1:\n",
        "        op = (-2*dif1(x0)* pow(h, i)/factorial(i)) + b\n",
        "        b = op\n",
        "        Et = ((fx1 - op)/fx1)*100\n",
        "        print('{}\\t    {}\\t\\t\\t    {:.8f}\\t    {:.4f}'.format(i, lista[i], b, Et))\n",
        "\n",
        "\n",
        "    if i == 2:\n",
        "        op = (2*dif2(x0)* pow(h, i)/factorial(i)) + b\n",
        "        b = op\n",
        "        Et = ((fx1 - op)/fx1)*100\n",
        "        Et = ((fx1 - op)/fx1)*100\n",
        "        print('{}\\t    {}\\t    {:.8f}\\t    {:.4f}'.format(i, lista[i], b, Et))\n",
        "\n",
        "    if i == 3:\n",
        "        op = (8*dif1(x0)* pow(h, i)/factorial(i)) + b\n",
        "        b = op\n",
        "        Et = ((fx1 - op)/fx1)*100\n",
        "        Et = ((fx1 - op)/fx1)*100\n",
        "        print('{}\\t    {}\\t\\t    {:.8f}\\t    {:.4f}'.format(i, lista[i], b, Et))\n",
        "\n",
        "    if i == 4:\n",
        "        op = (-8*dif2(x0)* pow(h, i)/factorial(i)) + b\n",
        "        b = op\n",
        "        Et = ((fx1 - op)/fx1)*100\n",
        "\n",
        "        Et = ((fx1 - op)/fx1)*100\n",
        "        print('{}\\t    {}\\t    {:.8f}\\t    {:.6f}'.format(i, lista[i], b, Et))\n",
        "\n",
        "    if i == 5:\n",
        "        op = (-32*dif1(x0)* pow(h, i)/factorial(i)) + b\n",
        "        b = op\n",
        "        Et = ((fx1 - op)/fx1)*100\n",
        "\n",
        "        Et = ((fx1 - op)/fx1)*100\n",
        "        print('{}\\t    {}\\t\\t    {:.8f}\\t    {:.6f}'.format(i, lista[i], b, Et))\n",
        "\n",
        "    if i == 6:\n",
        "        op = (32*dif2(x0)* pow(h, i)/factorial(i)) + b\n",
        "        b = op\n",
        "        Et = ((fx1 - op)/fx1)*100\n",
        "\n",
        "        Et = ((fx1 - op)/fx1)*100\n",
        "        print('{}\\t    {}\\t    {:.8f} \\t    {:.6f}'.format(i, lista[i], b, Et))"
      ],
      "metadata": {
        "colab": {
          "base_uri": "https://localhost:8080/"
        },
        "id": "lB28czLrAa29",
        "outputId": "72a89c4d-c05f-4dcb-a918-3ecc2ba2b5a8"
      },
      "execution_count": 11,
      "outputs": [
        {
          "output_type": "stream",
          "name": "stdout",
          "text": [
            "Orden n\t    Derivada\t\t\t    f(x1) \t\tEt % \n",
            "0\t    cos^2(x)\t\t\t    0.50000000\t   -100.0000\n",
            "1\t    -2cosx*senx\t\t\t    0.23820061\t    4.7198\n",
            "2\t    2(sen^2(x)-cos^2(x))\t    0.23820061\t    4.7198\n",
            "3\t    8(cosx*senx)\t\t    0.25016291\t    -0.0652\n",
            "4\t    -8(sen^2(x) -cos^2(x))\t    0.25016291\t    -0.065164\n",
            "5\t    -32(cosx*senx)\t\t    0.24999893\t    0.000427\n",
            "6\t    32(sen^2(x) -cos^2(x))\t    0.24999893 \t    0.000427\n"
          ]
        }
      ]
    }
  ]
}