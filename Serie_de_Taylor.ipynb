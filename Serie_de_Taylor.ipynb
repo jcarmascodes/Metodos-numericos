{
  "nbformat": 4,
  "nbformat_minor": 0,
  "metadata": {
    "colab": {
      "provenance": []
    },
    "kernelspec": {
      "name": "python3",
      "display_name": "Python 3"
    },
    "language_info": {
      "name": "python"
    }
  },
  "cells": [
    {
      "cell_type": "markdown",
      "source": [
        "#Serie de Taylor\n",
        "La serie de Taylor esté dada por\n",
        "\n",
        "\\begin{equation}\n",
        "f(x_{i+1})=f(x_i)+f'(x_i)h+\\frac{f''(x_i)}{2!}h^2+...+\\frac{f^n(x_i)}{2!}h^n+R_n\n",
        "\\end{equation}\n",
        "donde $h=x_{i+1}-x_i$ y\n",
        "\\begin{equation}\n",
        "R_n=\\frac{f^{n+1}(\\xi)}{(n+1)!}h^{n+1}\n",
        "\\end{equation}\n"
      ],
      "metadata": {
        "id": "napFJjNd3mzb"
      }
    },
    {
      "cell_type": "markdown",
      "source": [
        "#Ejemplo:"
      ],
      "metadata": {
        "id": "5deaz1Fz64m_"
      }
    },
    {
      "cell_type": "code",
      "source": [
        "#Código creado por:\n",
        "#Diana Ailed Hernández Bustos\n",
        "#2020\n",
        "\n",
        "#Serie de Taylor para cos(x)\n",
        "import numpy as np\n",
        "from math import*\n",
        "from tabulate import tabulate\n",
        "\n",
        "x0= pi/4\n",
        "x1 = pi/3\n",
        "h = (x1 - x0)\n",
        "fx1 = cos(x1)\n",
        "print(fx1)\n",
        "\n",
        "lista =[\"cosx\", \"-senx\", \"-cosx\", \"senx\", \"cosx\", \"-senx\", \"-cosx\"]"
      ],
      "metadata": {
        "colab": {
          "base_uri": "https://localhost:8080/"
        },
        "id": "QV89vtjG6690",
        "outputId": "70809c62-8e52-454d-d35e-1803179a474b"
      },
      "execution_count": 2,
      "outputs": [
        {
          "output_type": "stream",
          "name": "stdout",
          "text": [
            "0.5000000000000001\n"
          ]
        }
      ]
    },
    {
      "cell_type": "code",
      "source": [
        "#Funciones:\n",
        "\n",
        "def fun(x0):\n",
        "    return cos(x0)\n",
        "\n",
        "def dif1(x0, i):\n",
        "    return -sin(x0)"
      ],
      "metadata": {
        "id": "1OHE-KLB7g7H"
      },
      "execution_count": 3,
      "outputs": []
    },
    {
      "cell_type": "code",
      "source": [
        "print( \"Orden n\\t    Derivada\\t  f(x1)    \\t  Et % \")\n",
        "\n",
        "\n",
        "for i in range(0, 7):\n",
        "    while i == 0:\n",
        "        b = fun(x0)\n",
        "        Et = ((fx1 - b)/fx1)*100\n",
        "        print('{}\\t    {}\\t   {:.8f}\\t   {:.4f}'.format(i, lista[i], b, Et))\n",
        "\n",
        "        break\n",
        "\n",
        "    if i == 1:\n",
        "        op = (dif1(x0, i)* pow(h, i)/factorial(i)) + b\n",
        "        b = op\n",
        "        Et = ((fx1 - op)/fx1)*100\n",
        "        print('{}\\t    {}\\t   {:.8f}\\t   {:.4f}'.format(i, lista[i], b, Et))\n",
        "\n",
        "\n",
        "    if i == 2:\n",
        "        op = (-1*fun(x0)* pow(h, i)/factorial(i)) + b\n",
        "        b = op\n",
        "        Et = ((fx1 - op)/fx1)*100\n",
        "        Et = ((fx1 - op)/fx1)*100\n",
        "        print('{}\\t    {}\\t   {:.8f}\\t   {:.4f}'.format(i, lista[i], b, Et))\n",
        "\n",
        "    if i == 3:\n",
        "        op = (-1*dif1(x0, i)* pow(h, i)/factorial(i)) + b\n",
        "        b = op\n",
        "        Et = ((fx1 - op)/fx1)*100\n",
        "        Et = ((fx1 - op)/fx1)*100\n",
        "        print('{}\\t    {}\\t   {:.8f}\\t   {:.4f}'.format(i, lista[i], b, Et))\n",
        "\n",
        "    if i == 4:\n",
        "        op = (fun(x0)* pow(h, i)/factorial(i)) + b\n",
        "        b = op\n",
        "        Et = ((fx1 - op)/fx1)*100\n",
        "\n",
        "        Et = ((fx1 - op)/fx1)*100\n",
        "        print('{}\\t    {}\\t   {:.8f}\\t   {:.6f}'.format(i, lista[i], b, Et))\n",
        "\n",
        "    if i == 5:\n",
        "        op = (dif1(x0, i)* pow(h, i)/factorial(i)) + b\n",
        "        b = op\n",
        "        Et = ((fx1 - op)/fx1)*100\n",
        "\n",
        "        Et = ((fx1 - op)/fx1)*100\n",
        "        print('{}\\t    {}\\t   {:.8f}\\t   {:.6f}'.format(i, lista[i], b, Et))\n",
        "\n",
        "    if i == 6:\n",
        "        op = (-1*fun(x0)* pow(h, i)/factorial(i)) + b\n",
        "        b = op\n",
        "        Et = ((fx1 - op)/fx1)*100\n",
        "\n",
        "        Et = ((fx1 - op)/fx1)*100\n",
        "        print('{}\\t    {}\\t   {:.8f}\\t   {:.6f}'.format(i, lista[i], b, Et))"
      ],
      "metadata": {
        "colab": {
          "base_uri": "https://localhost:8080/"
        },
        "id": "TxQdYAsU7nuB",
        "outputId": "9ad0ae8c-4232-4df6-eea2-81e9d4ae47d1"
      },
      "execution_count": 4,
      "outputs": [
        {
          "output_type": "stream",
          "name": "stdout",
          "text": [
            "Orden n\t    Derivada\t  f(x1)    \t  Et % \n",
            "0\t    cosx\t   0.70710678\t   -41.4214\n",
            "1\t    -senx\t   0.52198666\t   -4.3973\n",
            "2\t    -cosx\t   0.49775449\t   0.4491\n",
            "3\t    senx\t   0.49986915\t   0.0262\n",
            "4\t    cosx\t   0.50000755\t   -0.001510\n",
            "5\t    -senx\t   0.50000030\t   -0.000061\n",
            "6\t    -cosx\t   0.49999999\t   0.000002\n"
          ]
        }
      ]
    }
  ]
}