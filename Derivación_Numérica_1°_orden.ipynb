{
  "nbformat": 4,
  "nbformat_minor": 0,
  "metadata": {
    "colab": {
      "provenance": []
    },
    "kernelspec": {
      "name": "python3",
      "display_name": "Python 3"
    },
    "language_info": {
      "name": "python"
    }
  },
  "cells": [
    {
      "cell_type": "markdown",
      "source": [
        "#Derivación Numérica de 1° orden\n",
        "**Derivación numérica hacia adelante**. La derivación numérica hacia adelante esta dada por\n",
        "\n",
        "\\begin{equation}\n",
        "f'(x_i)=\\frac{f(x_{i+1})-f(x_i)}{x_{i+1}-x_i}+O(x_{i+1}-x_i)\n",
        "\\end{equation}\n",
        "donde también $h=x_{i+1}-x_i$.\n",
        "\n",
        "**Derivación numérica hacia atrás**. La derivación numérica hacia atrás está dada por\n",
        "\n",
        "\\begin{equation}\n",
        "f'(x_{i-1})=\\frac{f(x_i)-f(x_{i-1})}{x_i-x_{i-1}}+O(x_i-x_{i-1})\n",
        "\\end{equation}\n",
        "\n",
        "**Derivación numérica centrada**. La derivación numérica centrada está dada por\n",
        " \\begin{equation}\n",
        "f'(x_i)=\\frac{f(x_{i+1})-f(x_{i-1})}{x_{i+1}-x_{i-1}}+O(h^2)\n",
        "\\end{equation}"
      ],
      "metadata": {
        "id": "Y8Y75U55CWto"
      }
    },
    {
      "cell_type": "code",
      "source": [
        "#Código hecho por: Diana Ailed Hernández Bustos\n",
        "from tabulate import tabulate\n",
        "from  math import *\n",
        "from sympy import*\n",
        "import numpy as np"
      ],
      "metadata": {
        "id": "OzQNcNy6G1c5"
      },
      "execution_count": 14,
      "outputs": []
    },
    {
      "cell_type": "code",
      "source": [
        "#Funciones de las aproximaciones:\n",
        "\n",
        "def centered1 (x, h):\n",
        "    return ( funcion(x+h) - funcion(x-h) ) / (2*h)\n",
        "\n",
        "def centered2 (x, h):\n",
        "    return ( funcion(x+h) - 2*funcion(x) + funcion(x-h) ) / (h**2)\n",
        "\n",
        "def forward1 (x, h):\n",
        "    return ( funcion(x+h) - funcion(x) ) / (h)\n",
        "\n",
        "def forward2 (x, h):\n",
        "    return ( funcion(x+(2*h)) - 2*funcion(x+h) + funcion(x) ) / (h**2)\n",
        "\n",
        "def backward1 (x, h):\n",
        "    return ( funcion(x) - funcion(x-h) ) / (h)\n",
        "\n",
        "def backward2 (x, h):\n",
        "    return ( funcion(x) - 2*funcion(x-h) + funcion(x-(2*h)) ) / (h**2)"
      ],
      "metadata": {
        "id": "pvEcdeKgHNAF"
      },
      "execution_count": 15,
      "outputs": []
    },
    {
      "cell_type": "markdown",
      "source": [
        "# Para\n",
        "#$f(x)=cos^2x$"
      ],
      "metadata": {
        "id": "TGadx6G1HeRC"
      }
    },
    {
      "cell_type": "code",
      "source": [
        "#Para obtener el analítico:\n",
        "x = symbols ('x')\n",
        "fx = cos(x)**2\n",
        "x0 = ((pi)/6)\n",
        "\n",
        "df1 = fx.diff(x)\n",
        "df2 = df1.diff(x)\n",
        "A1 = df1.subs(x, x0)\n",
        "A2 = df2.subs(x, x0)"
      ],
      "metadata": {
        "id": "H0cq54lhHuTp"
      },
      "execution_count": 16,
      "outputs": []
    },
    {
      "cell_type": "code",
      "source": [
        "def funcion (x):\n",
        "    return cos(x)**2"
      ],
      "metadata": {
        "id": "r1q7ZyvRIB1Y"
      },
      "execution_count": 17,
      "outputs": []
    },
    {
      "cell_type": "code",
      "source": [
        "h = np.array([0.1, 0.01, 0.001])\n",
        "k = len (h)\n",
        "C = ((pi)/180)\n",
        "\n",
        "#Hago arreglos de variables que voy a calcular\n",
        "c1 = np.zeros(k)\n",
        "c2 = np.zeros(k)\n",
        "f1 = np.zeros(k)\n",
        "f2 = np.zeros(k)\n",
        "b1 = np.zeros(k)\n",
        "b2 = np.zeros(k)\n",
        "e_c1 = np.zeros(k)\n",
        "e_c2 = np.zeros(k)\n",
        "e_f1 = np.zeros(k)\n",
        "e_f2 = np.zeros(k)\n",
        "e_b1 = np.zeros(k)\n",
        "e_b2 = np.zeros(k)\n",
        "\n",
        "#Cálculos\n",
        "for i in range (k):\n",
        "    c1[i] = centered1 (x0, C*h[i])\n",
        "    c2[i] = centered2 (x0, C*h[i])\n",
        "    f1[i] = forward1 (x0, C*h[i])\n",
        "    f2[i] = forward2 (x0, C*h[i])\n",
        "    b1[i] = backward1 (x0, C*h[i])\n",
        "    b2[i] = backward2 (x0, C*h[i])\n",
        "    #Errores de las funciones:\n",
        "    e_f1[i] = abs(((A1-f1[i])/A1)*100)\n",
        "    e_f2[i] = abs(((A2-f2[i])/A2)*100)\n",
        "    e_b1[i] = abs(((A1-b1[i])/A1)*100)\n",
        "    e_b2[i] = abs(((A2-b2[i])/A2)*100)\n",
        "    e_c1[i] = abs(((A1-c1[i])/A1)*100)\n",
        "    e_c2[i] = abs(((A2-c2[i])/A2)*100)\n",
        "\n",
        "\n",
        "#Tabla de resultados\n",
        "\n",
        "tabla = [['h',  'Forward', 'Error % forward', 'Backward', 'Error % backward', 'Centered', 'Error % centered'],\n",
        "      [h[0], '%.8f.' %f1[0],'%.8f.' %e_f1[0], '%.8f.' %b1[0],'%.8f.' %e_b1[0], '%.8f.' %c1[0], '%.8f.' %e_c1[0]],\n",
        "      [h[1], '%.8f.' %f1[1],'%.8f.' %e_f1[1],'%.8f.' %b1[1],'%.8f.' %e_b1[1], '%.8f.' %c1[1], '%.8f.' %e_c1[1]],\n",
        "      [h[2], '%.8f.' %f1[2],'%.8f.' %e_f1[2],'%.8f.' %b1[2],'%.8f.' %e_b1[2], '%.8f.' %c1[2], '%.8f.' %e_c1[2]]]\n",
        "\n",
        "tabla2 = [['h',  'Forward', 'Error % forward', 'Backward', 'Error % backward', 'Centered', 'Error % centered'],\n",
        "      [h[0], '%.8f.' %f2[0],'%.8f.' %e_f2[0], '%.8f.' %b2[0],'%.8f.' %e_b2[0], '%.8f.' %c2[0], '%.8f.' %e_c2[0]],\n",
        "      [h[1], '%.8f.' %f2[1],'%.8f.' %e_f2[1],'%.8f.' %b2[1],'%.8f.' %e_b2[1], '%.8f.' %c2[1], '%.8f.' %e_c2[1]],\n",
        "      [h[2], '%.8f.' %f2[2],'%.8f.' %e_f2[2],'%.8f.' %b2[2],'%.8f.' %e_b2[2], '%.8f.' %c2[2], '%.8f.' %e_c2[2]]]\n",
        "\n",
        "\n",
        "print(\"Para la 1° derivada los resultados son:\")\n",
        "print(\"Valor analítico de la 1° derivada:\", A1)\n",
        "print(tabulate(tabla, tablefmt='fancy_grid'))\n",
        "\n",
        "print(\"\\nPara la 2° derivada los resultados son:\")\n",
        "print(\"Valor analítico de la 2° derivada:\", A2)\n",
        "print(tabulate(tabla2, tablefmt='fancy_grid'))\n",
        "\n",
        "print(e_f2)"
      ],
      "metadata": {
        "colab": {
          "base_uri": "https://localhost:8080/"
        },
        "id": "B0VexxzHIIQi",
        "outputId": "316b6eab-5595-4fc2-a3dc-1623a8cc49d6"
      },
      "execution_count": 18,
      "outputs": [
        {
          "output_type": "stream",
          "name": "stdout",
          "text": [
            "Para la 1° derivada los resultados son:\n",
            "Valor analítico de la 1° derivada: -sqrt(3)/2\n",
            "╒═══════╤══════════════╤═════════════════╤══════════════╤══════════════════╤══════════════╤══════════════════╕\n",
            "│ h     │ Forward      │ Error % forward │ Backward     │ Error % backward │ Centered     │ Error % centered │\n",
            "├───────┼──────────────┼─────────────────┼──────────────┼──────────────────┼──────────────┼──────────────────┤\n",
            "│ 0.1   │ -0.86689631. │ 0.10056345.     │ -0.86515098. │ 0.10096961.      │ -0.86602365. │ 0.00020308.      │\n",
            "├───────┼──────────────┼─────────────────┼──────────────┼──────────────────┼──────────────┼──────────────────┤\n",
            "│ 0.01  │ -0.86611265. │ 0.01007463.     │ -0.86593812. │ 0.01007869.      │ -0.86602539. │ 0.00000203.      │\n",
            "├───────┼──────────────┼─────────────────┼──────────────┼──────────────────┼──────────────┼──────────────────┤\n",
            "│ 0.001 │ -0.86603413. │ 0.00100765.     │ -0.86601668. │ 0.00100769.      │ -0.86602540. │ 0.00000002.      │\n",
            "╘═══════╧══════════════╧═════════════════╧══════════════╧══════════════════╧══════════════╧══════════════════╛\n",
            "\n",
            "Para la 2° derivada los resultados son:\n",
            "Valor analítico de la 2° derivada: -1\n",
            "╒═══════╤══════════════╤═════════════════╤══════════════╤══════════════════╤══════════════╤══════════════════╕\n",
            "│ h     │ Forward      │ Error % forward │ Backward     │ Error % backward │ Centered     │ Error % centered │\n",
            "├───────┼──────────────┼─────────────────┼──────────────┼──────────────────┼──────────────┼──────────────────┤\n",
            "│ 0.1   │ -0.99394691. │ 0.60530872.     │ -1.00603887. │ 0.60388717.      │ -0.99999898. │ 0.00010154.      │\n",
            "├───────┼──────────────┼─────────────────┼──────────────┼──────────────────┼──────────────┼──────────────────┤\n",
            "│ 0.01  │ -0.99939533. │ 0.06046700.     │ -1.00060453. │ 0.06045295.      │ -0.99999999. │ 0.00000118.      │\n",
            "├───────┼──────────────┼─────────────────┼──────────────┼──────────────────┼──────────────┼──────────────────┤\n",
            "│ 0.001 │ -0.99993937. │ 0.00606260.     │ -1.00006079. │ 0.00607898.      │ -0.99999983. │ 0.00001654.      │\n",
            "╘═══════╧══════════════╧═════════════════╧══════════════╧══════════════════╧══════════════╧══════════════════╛\n",
            "[0.60530872 0.060467   0.0060626 ]\n"
          ]
        }
      ]
    },
    {
      "cell_type": "markdown",
      "source": [
        "#Para\n",
        "#$f(x)=ln(\\frac{1}{x})$"
      ],
      "metadata": {
        "id": "i2qsVoVxKKwJ"
      }
    },
    {
      "cell_type": "code",
      "source": [
        "#Para obtener el analítico:\n",
        "x = symbols ('x')\n",
        "fx = log(1/x)\n",
        "x0 = 2\n",
        "\n",
        "df1 = fx.diff(x)\n",
        "df2 = df1.diff(x)\n",
        "A1 = float(df1.subs(x, x0))\n",
        "A2 = float(df2.subs(x, x0))"
      ],
      "metadata": {
        "id": "jAQqjXCYKbAq"
      },
      "execution_count": 19,
      "outputs": []
    },
    {
      "cell_type": "code",
      "source": [
        "def funcion (x):\n",
        "    return float(log(1/x))"
      ],
      "metadata": {
        "id": "v3M-KajeK0UH"
      },
      "execution_count": 20,
      "outputs": []
    },
    {
      "cell_type": "code",
      "source": [
        "h = np.array([0.1, 0.01, 0.001])\n",
        "k = len (h)\n",
        "\n",
        "#Hago arreglos de variables que voy a calcular\n",
        "c1 = np.zeros(k)\n",
        "c2 = np.zeros(k)\n",
        "f1 = np.zeros(k)\n",
        "f2 = np.zeros(k)\n",
        "b1 = np.zeros(k)\n",
        "b2 = np.zeros(k)\n",
        "e_c1 = np.zeros(k)\n",
        "e_c2 = np.zeros(k)\n",
        "e_f1 = np.zeros(k)\n",
        "e_f2 = np.zeros(k)\n",
        "e_b1 = np.zeros(k)\n",
        "e_b2 = np.zeros(k)\n",
        "\n",
        "#Cálculos\n",
        "for i in range (k):\n",
        "    c1[i] = centered1 (x0, h[i])\n",
        "    c2[i] = centered2 (x0, h[i])\n",
        "    f1[i] = forward1 (x0, h[i])\n",
        "    f2[i] = forward2 (x0, h[i])\n",
        "    b1[i] = backward1 (x0, h[i])\n",
        "    b2[i] = backward2 (x0, h[i])\n",
        "    #Errores de las funciones:\n",
        "    e_f1[i] = abs(((A1-f1[i])/A1)*100)\n",
        "    e_f2[i] = abs(((A2-f2[i])/A2)*100)\n",
        "    e_b1[i] = abs(((A1-b1[i])/A1)*100)\n",
        "    e_b2[i] = abs(((A2-b2[i])/A2)*100)\n",
        "    e_c1[i] = abs(((A1-c1[i])/A1)*100)\n",
        "    e_c2[i] = abs(((A2-c2[i])/A2)*100)\n",
        "\n",
        "\n",
        "#Tabla de resultados\n",
        "\n",
        "tabla = [['h',  'Forward', 'Error % forward', 'Backward', 'Error % backward', 'Centered', 'Error % centered'],\n",
        "      [h[0], '%.8f.' %f1[0],'%.8f.' %e_f1[0], '%.8f.' %b1[0],'%.8f.' %e_b1[0], '%.8f.' %c1[0], '%.8f.' %e_c1[0]],\n",
        "      [h[1], '%.8f.' %f1[1],'%.8f.' %e_f1[1],'%.8f.' %b1[1],'%.8f.' %e_b1[1], '%.8f.' %c1[1], '%.8f.' %e_c1[1]],\n",
        "      [h[2], '%.8f.' %f1[2],'%.8f.' %e_f1[2],'%.8f.' %b1[2],'%.8f.' %e_b1[2], '%.8f.' %c1[2], '%.8f.' %e_c1[2]]]\n",
        "\n",
        "tabla2 = [['h',  'Forward', 'Error % forward', 'Backward', 'Error % backward', 'Centered', 'Error % centered'],\n",
        "      [h[0], '%.8f.' %f2[0],'%.8f.' %e_f2[0], '%.8f.' %b2[0],'%.8f.' %e_b2[0], '%.8f.' %c2[0], '%.8f.' %e_c2[0]],\n",
        "      [h[1], '%.8f.' %f2[1],'%.8f.' %e_f2[1],'%.8f.' %b2[1],'%.8f.' %e_b2[1], '%.8f.' %c2[1], '%.8f.' %e_c2[1]],\n",
        "      [h[2], '%.8f.' %f2[2],'%.8f.' %e_f2[2],'%.8f.' %b2[2],'%.8f.' %e_b2[2], '%.8f.' %c2[2], '%.8f.' %e_c2[2]]]\n",
        "\n",
        "\n",
        "print(\"Para la 1° derivada los resultados son:\")\n",
        "print(\"Valor analítico de la 1° derivada:\", A1)\n",
        "print(tabulate(tabla, tablefmt='fancy_grid'))\n",
        "\n",
        "print(\"\\nPara la 2° derivada los resultados son:\")\n",
        "print(\"Valor analítico de la 2° derivada:\", A2)\n",
        "print(tabulate(tabla2, tablefmt='fancy_grid'))"
      ],
      "metadata": {
        "colab": {
          "base_uri": "https://localhost:8080/"
        },
        "id": "gRvbvcG0K6Uj",
        "outputId": "b41eecd2-92c3-455e-e410-29c6da9e994d"
      },
      "execution_count": 21,
      "outputs": [
        {
          "output_type": "stream",
          "name": "stdout",
          "text": [
            "Para la 1° derivada los resultados son:\n",
            "Valor analítico de la 1° derivada: -0.5\n",
            "╒═══════╤══════════════╤═════════════════╤══════════════╤══════════════════╤══════════════╤══════════════════╕\n",
            "│ h     │ Forward      │ Error % forward │ Backward     │ Error % backward │ Centered     │ Error % centered │\n",
            "├───────┼──────────────┼─────────────────┼──────────────┼──────────────────┼──────────────┼──────────────────┤\n",
            "│ 0.1   │ -0.48790164. │ 2.41967166.     │ -0.51293294. │ 2.58658878.      │ -0.50041729. │ 0.08345856.      │\n",
            "├───────┼──────────────┼─────────────────┼──────────────┼──────────────────┼──────────────┼──────────────────┤\n",
            "│ 0.01  │ -0.49875415. │ 0.24916978.     │ -0.50125418. │ 0.25083647.      │ -0.50000417. │ 0.00083335.      │\n",
            "├───────┼──────────────┼─────────────────┼──────────────┼──────────────────┼──────────────┼──────────────────┤\n",
            "│ 0.001 │ -0.49987504. │ 0.02499167.     │ -0.50012504. │ 0.02500834.      │ -0.50000004. │ 0.00000833.      │\n",
            "╘═══════╧══════════════╧═════════════════╧══════════════╧══════════════════╧══════════════╧══════════════════╛\n",
            "\n",
            "Para la 2° derivada los resultados son:\n",
            "Valor analítico de la 2° derivada: 0.25\n",
            "╒═══════╤═════════════╤═════════════════╤═════════════╤══════════════════╤═════════════╤══════════════════╕\n",
            "│ h     │ Forward     │ Error % forward │ Backward    │ Error % backward │ Centered    │ Error % centered │\n",
            "├───────┼─────────────┼─────────────────┼─────────────┼──────────────────┼─────────────┼──────────────────┤\n",
            "│ 0.1   │ 0.22701485. │ 9.19405862.     │ 0.27739269. │ 10.95707531.     │ 0.25031302. │ 0.12520872.      │\n",
            "├───────┼─────────────┼─────────────────┼─────────────┼──────────────────┼─────────────┼──────────────────┤\n",
            "│ 0.01  │ 0.24752169. │ 0.99132436.     │ 0.25252206. │ 1.00882565.      │ 0.25000313. │ 0.00125002.      │\n",
            "├───────┼─────────────┼─────────────────┼─────────────┼──────────────────┼─────────────┼──────────────────┤\n",
            "│ 0.001 │ 0.24975022. │ 0.09991251.     │ 0.25025022. │ 0.10008769.      │ 0.25000003. │ 0.00001245.      │\n",
            "╘═══════╧═════════════╧═════════════════╧═════════════╧══════════════════╧═════════════╧══════════════════╛\n"
          ]
        }
      ]
    }
  ]
}