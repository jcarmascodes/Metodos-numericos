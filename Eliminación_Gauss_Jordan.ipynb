{
  "nbformat": 4,
  "nbformat_minor": 0,
  "metadata": {
    "colab": {
      "provenance": []
    },
    "kernelspec": {
      "name": "python3",
      "display_name": "Python 3"
    },
    "language_info": {
      "name": "python"
    }
  },
  "cells": [
    {
      "cell_type": "markdown",
      "source": [
        "#Eliminación Gauss-Jordan\n",
        "El método de Gauss-Jordan es una variante del método de eliminación de Gauss. La principal diferencia es que cuando una incógnita se elimina en el método de Gauss_Jordan, ésta se elimina de todas las ecuaciones. De esta forma, el paso de eliminación genera una matriz identidad y no una triangular. En consecuencia, no es necesario usar la sustitución hacia atrás. Esto se explica mejor con un ejemplo."
      ],
      "metadata": {
        "id": "Bga_BfLVS6qA"
      }
    },
    {
      "cell_type": "markdown",
      "source": [
        "#Ejemplo:\n",
        "Resolver el siguiente sistema de ecuaciones con el método de Gauss-Jordan\n",
        "\\begin{eqnarray}\n",
        "2x_1+3x_2+x_3+2x_4=1\\\\2x_1+4x_2-x_3+5x_4=2\\\\3x_1+7x_2+1.5x_3+x_4=3\\\\6x_1-9x_2+3x_3+7x_4=4\n",
        "\\end{eqnarray}"
      ],
      "metadata": {
        "id": "ZJOqPPltUCl3"
      }
    },
    {
      "cell_type": "code",
      "execution_count": 1,
      "metadata": {
        "id": "kFavyVIaSxF7"
      },
      "outputs": [],
      "source": [
        "#Código hecho por: Diana Ailed Hernández Bustos\n",
        "import numpy as np\n",
        "#se escribe la matriz\n",
        "a = np.array([[2,3,1,2, 1],[2,4,-1,5,2],[3,7,1.5,1, 3],[6,-9,3,7, 4]])\n",
        "aa= np.copy(a)\n",
        "m = len(a)\n",
        "n = m+1\n",
        "#print(aa)\n",
        "#print(m)"
      ]
    },
    {
      "cell_type": "code",
      "source": [
        "#Primero, se hace la eliminación de ceros por debajo\n",
        "for i in range (0, m):\n",
        "    for k in range (i+1, m):\n",
        "        z = a[i,i]\n",
        "        #print(z)\n",
        "        a[i, :] =  a[i, :]/ z #Correcto\n",
        "\n",
        "        factor = a[k, i]/ a[i, i]\n",
        "        a[k,:]= a[k,:]-a[i,:]*factor\n",
        "\n",
        "    if i != m-1:\n",
        "        print(\"\\nReconstruyendo la matriz\", i+1)\n",
        "        print(a)\n",
        "\n",
        "b = np.copy(a)\n",
        "\n",
        "print(\"\\nAhora, elimino los ceros por arriba:\")\n",
        "#Después, se hace la eliminación de ceros por arriba\n",
        "l = m-1\n",
        "for i in range (l, -1, -1):\n",
        "    for k in range (i-1, -1, -1):\n",
        "        z = b[i,i]\n",
        "        #print(z)\n",
        "        b[i, :] =  b[i, :]/ z #Correcto\n",
        "\n",
        "        factor = b[k, i]/ b[i, i]\n",
        "        b[k,:]= b[k,:]-b[i,:]*factor\n",
        "\n",
        "    if i != 0:\n",
        "        print(\"\\nReconstruyendo la matriz\")\n",
        "        print(b)\n",
        "\n",
        "#Resultados:\n",
        "print(\"\\nLos resultados son:\\n\")\n",
        "for i in range (0, m):\n",
        "    x = b[i, m]\n",
        "    print(\"x{} = {}\".format(i+1, x))"
      ],
      "metadata": {
        "colab": {
          "base_uri": "https://localhost:8080/"
        },
        "id": "EnbVwZMoVpyy",
        "outputId": "b5cb6269-426b-4c37-9e2f-97cf04be01e4"
      },
      "execution_count": 2,
      "outputs": [
        {
          "output_type": "stream",
          "name": "stdout",
          "text": [
            "\n",
            "Reconstruyendo la matriz 1\n",
            "[[  1.    1.5   0.5   1.    0.5]\n",
            " [  0.    1.   -2.    3.    1. ]\n",
            " [  0.    2.5   0.   -2.    1.5]\n",
            " [  0.  -18.    0.    1.    1. ]]\n",
            "\n",
            "Reconstruyendo la matriz 2\n",
            "[[  1.    1.5   0.5   1.    0.5]\n",
            " [  0.    1.   -2.    3.    1. ]\n",
            " [  0.    0.    5.   -9.5  -1. ]\n",
            " [  0.    0.  -36.   55.   19. ]]\n",
            "\n",
            "Reconstruyendo la matriz 3\n",
            "[[  1.    1.5   0.5   1.    0.5]\n",
            " [  0.    1.   -2.    3.    1. ]\n",
            " [  0.    0.    1.   -1.9  -0.2]\n",
            " [  0.    0.    0.  -13.4  11.8]]\n",
            "\n",
            "Ahora, elimino los ceros por arriba:\n",
            "\n",
            "Reconstruyendo la matriz\n",
            "[[ 1.          1.5         0.5         0.          1.38059701]\n",
            " [ 0.          1.         -2.          0.          3.64179104]\n",
            " [ 0.          0.          1.          0.         -1.87313433]\n",
            " [-0.         -0.         -0.          1.         -0.88059701]]\n",
            "\n",
            "Reconstruyendo la matriz\n",
            "[[ 1.          1.5         0.          0.          2.31716418]\n",
            " [ 0.          1.          0.          0.         -0.10447761]\n",
            " [ 0.          0.          1.          0.         -1.87313433]\n",
            " [-0.         -0.         -0.          1.         -0.88059701]]\n",
            "\n",
            "Reconstruyendo la matriz\n",
            "[[ 1.          0.          0.          0.          2.4738806 ]\n",
            " [ 0.          1.          0.          0.         -0.10447761]\n",
            " [ 0.          0.          1.          0.         -1.87313433]\n",
            " [-0.         -0.         -0.          1.         -0.88059701]]\n",
            "\n",
            "Los resultados son:\n",
            "\n",
            "x1 = 2.4738805970149267\n",
            "x2 = -0.10447761194029859\n",
            "x3 = -1.87313432835821\n",
            "x4 = -0.8805970149253738\n"
          ]
        }
      ]
    }
  ]
}