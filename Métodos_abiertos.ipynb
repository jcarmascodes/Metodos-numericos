{
  "nbformat": 4,
  "nbformat_minor": 0,
  "metadata": {
    "colab": {
      "provenance": []
    },
    "kernelspec": {
      "name": "python3",
      "display_name": "Python 3"
    },
    "language_info": {
      "name": "python"
    }
  },
  "cells": [
    {
      "cell_type": "markdown",
      "source": [
        "#Métodos abiertos\n",
        "A diferencia de los métodos cerrados, donde se parte de conocer un intervalo en el cual se encuentra el cero de la función que se desea calcular; los métodos abiertos están basados en fórmulas que solo necesitan un valor de $x$ o dos valores iniciales que no necesariamente encierran a la raíz. Como tal, a veces *divergen* o se mueven lejos de la raíz real conforme el cálculo avanza. Sin embargo, cuando los métodos convergen, usualmente se acercan a la raíz real más rápido que los métodos cerrados. A continuación se muestran los principales métodos y sus códigos correspondientes."
      ],
      "metadata": {
        "id": "Unq3JqF7hAXz"
      }
    },
    {
      "cell_type": "code",
      "execution_count": null,
      "metadata": {
        "id": "qcOQ82omg74z"
      },
      "outputs": [],
      "source": [
        "#Código hecho por: Diana Ailed Hernández Bustos\n",
        "\n",
        "from  math import*\n",
        "import numpy as np\n",
        "import matplotlib.pyplot as plt\n",
        "import scipy as sp\n",
        "from scipy.optimize import  root_scalar"
      ]
    },
    {
      "cell_type": "markdown",
      "source": [
        "#Gráfica de la función"
      ],
      "metadata": {
        "id": "43uKKgiejPgm"
      }
    },
    {
      "cell_type": "code",
      "source": [
        "#Definiendo la función\n",
        "def f(x):\n",
        "    return (sqrt(x) - cos(x))\n",
        "\n",
        "#Gráfica:\n",
        "k = 100\n",
        "x = np.linspace(0, 2, k)\n",
        "y = np.zeros(k)\n",
        "\n",
        "for i in range (k):\n",
        "    y[i] = f(x[i])\n",
        "\n",
        "plt.plot (x, y)\n",
        "plt.grid()\n",
        "plt.axhline(y=0,linewidth=1, c='k')\n",
        "plt.title(\"Gráfica de función\")\n",
        "plt.xlabel(\"x\")\n",
        "plt.ylabel(\"f(x)\")"
      ],
      "metadata": {
        "colab": {
          "base_uri": "https://localhost:8080/",
          "height": 489
        },
        "id": "yLjcumkdjTT7",
        "outputId": "25e6db8f-8d5e-4c5e-820c-85abebf876c5"
      },
      "execution_count": null,
      "outputs": [
        {
          "output_type": "execute_result",
          "data": {
            "text/plain": [
              "Text(0, 0.5, 'f(x)')"
            ]
          },
          "metadata": {},
          "execution_count": 3
        },
        {
          "output_type": "display_data",
          "data": {
            "text/plain": [
              "<Figure size 640x480 with 1 Axes>"
            ],
            "image/png": "[encoded data removed]"
          },
          "metadata": {}
        }
      ]
    },
    {
      "cell_type": "markdown",
      "source": [
        "#Iteración simple de punto fijo\n",
        "Este método consiste en partir de una función $f(x)=0$ despejando una $x$ del lado izquierdo de una ecuación\n",
        "\n",
        "\\begin{equation}\n",
        "x=g(x)\n",
        "\\end{equation}\n",
        "Un ejemplo es la ecuación\n",
        "\\begin{equation}\n",
        "x^2-2x+3=0\n",
        "\\end{equation}\n",
        "despejando $x$ se tiene\n",
        "\\begin{equation}\n",
        "x=\\frac{x^2+3}{2}\n",
        "\\end{equation}\n",
        "otro ejemplo, si $sinx=0$, simplemente se suma $x$ de ambos lados del igual, se obtiene\n",
        "\\begin{equation}\n",
        "x=sinx+x\n",
        "\\end{equation}\n",
        "Este procedimiento se puede escribir como la fórmula iterativa\n",
        "\\begin{equation}\n",
        "x_{i+1}=g(x_i)\n",
        "\\end{equation}\n",
        "y el error de aproximación está dado por\n",
        "\\begin{equation}\n",
        "\\varepsilon=\\mid\\frac{x_{i+1}-x_i}{x_{i+1}}\\mid100\n",
        "\\end{equation}\n"
      ],
      "metadata": {
        "id": "D3YlCdE0jvBj"
      }
    },
    {
      "cell_type": "code",
      "source": [
        "#Función igualada a x\n",
        "def funcion(x):\n",
        "    return (pow (cos(x), 2))"
      ],
      "metadata": {
        "id": "hT2aWuFq97xH"
      },
      "execution_count": 4,
      "outputs": []
    },
    {
      "cell_type": "code",
      "source": [
        "e = 0.001 # Error aproximado\n",
        "x0 = 0.5\n",
        "xrold = 0\n",
        "count = 0\n",
        "xr = 0\n",
        "print('{:^18}{:^18}{:^18}'.format('Iteración','xr','Error aproximado%'))\n",
        "print('{:^18}{:^18,.7f}'.format(count, xr))\n",
        "xr = funcion(x0)\n",
        "ea = abs((xr-xrold)/xr)*100\n",
        "\n",
        "while ea > e:\n",
        "    count += 1\n",
        "    xrold = xr\n",
        "    print('{:^18}{:^18,.7f}{:^18,.7f}'.format(count, xr, ea))\n",
        "    xr = funcion(xr)\n",
        "    ea = abs((xr-xrold)/xr)*100\n",
        "\n",
        "print('{:^18}{:^18,.7f}{:^18,.7f}'.format(count +1, xr, ea))\n",
        "print (\"\\n\\nRESULTADOS MÉTODO ITERACIÓN SIMPLE\")\n",
        "print(\"La raíz es: {}\".format(xr))"
      ],
      "metadata": {
        "colab": {
          "base_uri": "https://localhost:8080/"
        },
        "id": "vTcCMr9A9--4",
        "outputId": "91ca3a8d-ad09-41fb-ea81-0cc77265ef3d"
      },
      "execution_count": 5,
      "outputs": [
        {
          "output_type": "stream",
          "name": "stdout",
          "text": [
            "    Iteración             xr        Error aproximado% \n",
            "        0             0.0000000     \n",
            "        1             0.7701512        100.0000000    \n",
            "        2             0.5152446         49.4729070    \n",
            "        3             0.7571997         31.9539247    \n",
            "        4             0.5281836         43.3591861    \n",
            "        5             0.7460190         29.1997175    \n",
            "        6             0.5393385         38.3211207    \n",
            "        7             0.7362474         26.7449443    \n",
            "        8             0.5490716         34.0895068    \n",
            "        9             0.7276251         24.5392090    \n",
            "        10            0.5576446         30.4818502    \n",
            "        11            0.7199589         22.5449286    \n",
            "        12            0.5652526         27.3693908    \n",
            "        13            0.7131014         20.7331993    \n",
            "        14            0.5720451         24.6582386    \n",
            "        15            0.7069372         19.0812007    \n",
            "        16            0.5781393         22.2780096    \n",
            "        17            0.7013743         17.5704986    \n",
            "        18            0.5836290         20.1746803    \n",
            "        19            0.6963375         16.1859003    \n",
            "        20            0.5885905         18.3059318    \n",
            "        21            0.6917649         14.9146616    \n",
            "        22            0.5930870         16.6380191    \n",
            "        23            0.6876046         13.7459247    \n",
            "        24            0.5971713         15.1436111    \n",
            "        25            0.6838124         12.6703115    \n",
            "        26            0.6008883         13.8002644    \n",
            "        27            0.6803507         11.6796255    \n",
            "        28            0.6042764         12.5893224    \n",
            "        29            0.6771865         10.7666284    \n",
            "        30            0.6073688         11.4951072    \n",
            "        31            0.6742914         9.9248719     \n",
            "        32            0.6101946         10.5043157    \n",
            "        33            0.6716401         9.1485685     \n",
            "        34            0.6127792         9.6055622     \n",
            "        35            0.6692103         8.4324906     \n",
            "        36            0.6151450         8.7890267     \n",
            "        37            0.6669822         7.7718925     \n",
            "        38            0.6173121         8.0461811     \n",
            "        39            0.6649379         7.1624465     \n",
            "        40            0.6192983         7.3695740     \n",
            "        41            0.6630616         6.6001932     \n",
            "        42            0.6211196         6.7526591     \n",
            "        43            0.6613389         6.0814993     \n",
            "        44            0.6227903         6.1896571     \n",
            "        45            0.6597566         5.6030238     \n",
            "        46            0.6243235         5.6754439     \n",
            "        47            0.6583030         5.1616891     \n",
            "        48            0.6257309         5.2054586     \n",
            "        49            0.6569674         4.7546561     \n",
            "        50            0.6270231         4.7756275     \n",
            "        51            0.6557400         4.3793036     \n",
            "        52            0.6282099         4.3823016     \n",
            "        53            0.6546118         4.0332094     \n",
            "        54            0.6293001         4.0222025     \n",
            "        55            0.6535747         3.7141345     \n",
            "        56            0.6303016         3.6923784     \n",
            "        57            0.6526213         3.4200081     \n",
            "        58            0.6312218         3.3901654     \n",
            "        59            0.6517447         3.1489151     \n",
            "        60            0.6320675         3.1131549     \n",
            "        61            0.6509387         2.8990839     \n",
            "        62            0.6328447         2.8591655     \n",
            "        63            0.6501976         2.6688761     \n",
            "        64            0.6335590         2.6262186     \n",
            "        65            0.6495161         2.4567760     \n",
            "        66            0.6342156         2.4125167     \n",
            "        67            0.6488895         2.2613824     \n",
            "        68            0.6348192         2.2164254     \n",
            "        69            0.6483131         2.0813996     \n",
            "        70            0.6353740         2.0364566     \n",
            "        71            0.6477832         1.9156297     \n",
            "        72            0.6358841         1.8712542     \n",
            "        73            0.6472958         1.7629661     \n",
            "        74            0.6363531         1.7195813     \n",
            "        75            0.6468475         1.6223858     \n",
            "        76            0.6367843         1.5803089     \n",
            "        77            0.6464353         1.4929444     \n",
            "        78            0.6371808         1.4524057     \n",
            "        79            0.6460561         1.3737693     \n",
            "        80            0.6375454         1.3349291     \n",
            "        81            0.6457075         1.2640551     \n",
            "        82            0.6378806         1.2270171     \n",
            "        83            0.6453868         1.1630583     \n",
            "        84            0.6381888         1.1278807     \n",
            "        85            0.6450918         1.0700927     \n",
            "        86            0.6384722         1.0367979     \n",
            "        87            0.6448206         0.9845254     \n",
            "        88            0.6387328         0.9531074     \n",
            "        89            0.6445711         0.9057724     \n",
            "        90            0.6389724         0.8762033     \n",
            "        91            0.6443417         0.8332950     \n",
            "        92            0.6391928         0.8055304     \n",
            "        93            0.6441307         0.7665969     \n",
            "        94            0.6393955         0.7405797     \n",
            "        95            0.6439366         0.7052201     \n",
            "        96            0.6395818         0.6808844     \n",
            "        97            0.6437582         0.6487426     \n",
            "        98            0.6397532         0.6260163     \n",
            "        99            0.6435940         0.5967757     \n",
            "       100            0.6399108         0.5755827     \n",
            "       101            0.6434431         0.5489609     \n",
            "       102            0.6400557         0.5292231     \n",
            "       103            0.6433042         0.5049681     \n",
            "       104            0.6401890         0.4866067     \n",
            "       105            0.6431765         0.4644931     \n",
            "       106            0.6403116         0.4474298     \n",
            "       107            0.6430591         0.4272558     \n",
            "       108            0.6404243         0.4114136     \n",
            "       109            0.6429511         0.3929982     \n",
            "       110            0.6405279         0.3783020     \n",
            "       111            0.6428517         0.3614827     \n",
            "       112            0.6406233         0.3478600     \n",
            "       113            0.6427604         0.3324905     \n",
            "       114            0.6407109         0.3198716     \n",
            "       115            0.6426764         0.3058203     \n",
            "       116            0.6407916         0.2941384     \n",
            "       117            0.6425991         0.2812864     \n",
            "       118            0.6408657         0.2704782     \n",
            "       119            0.6425280         0.2587184     \n",
            "       120            0.6409339         0.2487236     \n",
            "       121            0.6424627         0.2379589     \n",
            "       122            0.6409966         0.2287207     \n",
            "       123            0.6424026         0.2188634     \n",
            "       124            0.6410543         0.2103281     \n",
            "       125            0.6423473         0.2012988     \n",
            "       126            0.6411073         0.1934160     \n",
            "       127            0.6422965         0.1851426     \n",
            "       128            0.6411561         0.1778650     \n",
            "       129            0.6422497         0.1702820     \n",
            "       130            0.6412009         0.1635653     \n",
            "       131            0.6422067         0.1566133     \n",
            "       132            0.6412422         0.1504161     \n",
            "       133            0.6421671         0.1440411     \n",
            "       134            0.6412801         0.1383247     \n",
            "       135            0.6421308         0.1324774     \n",
            "       136            0.6413150         0.1272059     \n",
            "       137            0.6420973         0.1218415     \n",
            "       138            0.6413471         0.1169813     \n",
            "       139            0.6420666         0.1120591     \n",
            "       140            0.6413766         0.1075790     \n",
            "       141            0.6420383         0.1030617     \n",
            "       142            0.6414037         0.0989328     \n",
            "       143            0.6420123         0.0947864     \n",
            "       144            0.6414287         0.0909818     \n",
            "       145            0.6419883         0.0871752     \n",
            "       146            0.6414516         0.0836701     \n",
            "       147            0.6419663         0.0801750     \n",
            "       148            0.6414727         0.0769462     \n",
            "       149            0.6419461         0.0737367     \n",
            "       150            0.6414921         0.0707628     \n",
            "       151            0.6419275         0.0678153     \n",
            "       152            0.6415100         0.0650765     \n",
            "       153            0.6419104         0.0623692     \n",
            "       154            0.6415264         0.0598473     \n",
            "       155            0.6418946         0.0573603     \n",
            "       156            0.6415415         0.0550383     \n",
            "       157            0.6418801         0.0527537     \n",
            "       158            0.6415554         0.0506159     \n",
            "       159            0.6418668         0.0485169     \n",
            "       160            0.6415682         0.0465489     \n",
            "       161            0.6418546         0.0446203     \n",
            "       162            0.6415799         0.0428088     \n",
            "       163            0.6418433         0.0410366     \n",
            "       164            0.6415907         0.0393692     \n",
            "       165            0.6418329         0.0377406     \n",
            "       166            0.6416007         0.0362060     \n",
            "       167            0.6418234         0.0347094     \n",
            "       168            0.6416098         0.0332971     \n",
            "       169            0.6418147         0.0319215     \n",
            "       170            0.6416182         0.0306219     \n",
            "       171            0.6418066         0.0293576     \n",
            "       172            0.6416259         0.0281616     \n",
            "       173            0.6417992         0.0269995     \n",
            "       174            0.6416330         0.0258990     \n",
            "       175            0.6417924         0.0248309     \n",
            "       176            0.6416396         0.0238183     \n",
            "       177            0.6417861         0.0228364     \n",
            "       178            0.6416456         0.0219047     \n",
            "       179            0.6417804         0.0210021     \n",
            "       180            0.6416511         0.0201449     \n",
            "       181            0.6417751         0.0193151     \n",
            "       182            0.6416562         0.0185265     \n",
            "       183            0.6417702         0.0177636     \n",
            "       184            0.6416609         0.0170381     \n",
            "       185            0.6417657         0.0163368     \n",
            "       186            0.6416652         0.0156693     \n",
            "       187            0.6417616         0.0150245     \n",
            "       188            0.6416691         0.0144104     \n",
            "       189            0.6417578         0.0138176     \n",
            "       190            0.6416727         0.0132528     \n",
            "       191            0.6417543         0.0127077     \n",
            "       192            0.6416761         0.0121881     \n",
            "       193            0.6417511         0.0116869     \n",
            "       194            0.6416792         0.0112089     \n",
            "       195            0.6417481         0.0107481     \n",
            "       196            0.6416820         0.0103085     \n",
            "       197            0.6417454         0.0098848     \n",
            "       198            0.6416846         0.0094803     \n",
            "       199            0.6417429         0.0090907     \n",
            "       200            0.6416870         0.0087187     \n",
            "       201            0.6417406         0.0083605     \n",
            "       202            0.6416892         0.0080183     \n",
            "       203            0.6417385         0.0076889     \n",
            "       204            0.6416912         0.0073741     \n",
            "       205            0.6417366         0.0070713     \n",
            "       206            0.6416931         0.0067817     \n",
            "       207            0.6417348         0.0065032     \n",
            "       208            0.6416948         0.0062369     \n",
            "       209            0.6417332         0.0059808     \n",
            "       210            0.6416964         0.0057359     \n",
            "       211            0.6417317         0.0055004     \n",
            "       212            0.6416978         0.0052751     \n",
            "       213            0.6417303         0.0050585     \n",
            "       214            0.6416991         0.0048513     \n",
            "       215            0.6417290         0.0046522     \n",
            "       216            0.6417004         0.0044616     \n",
            "       217            0.6417278         0.0042785     \n",
            "       218            0.6417015         0.0041032     \n",
            "       219            0.6417267         0.0039348     \n",
            "       220            0.6417025         0.0037736     \n",
            "       221            0.6417257         0.0036187     \n",
            "       222            0.6417035         0.0034704     \n",
            "       223            0.6417248         0.0033280     \n",
            "       224            0.6417043         0.0031916     \n",
            "       225            0.6417240         0.0030607     \n",
            "       226            0.6417052         0.0029352     \n",
            "       227            0.6417232         0.0028148     \n",
            "       228            0.6417059         0.0026995     \n",
            "       229            0.6417225         0.0025887     \n",
            "       230            0.6417066         0.0024826     \n",
            "       231            0.6417218         0.0023807     \n",
            "       232            0.6417072         0.0022832     \n",
            "       233            0.6417212         0.0021895     \n",
            "       234            0.6417078         0.0020998     \n",
            "       235            0.6417207         0.0020136     \n",
            "       236            0.6417083         0.0019311     \n",
            "       237            0.6417202         0.0018519     \n",
            "       238            0.6417088         0.0017759     \n",
            "       239            0.6417197         0.0017031     \n",
            "       240            0.6417092         0.0016333     \n",
            "       241            0.6417193         0.0015663     \n",
            "       242            0.6417097         0.0015021     \n",
            "       243            0.6417189         0.0014405     \n",
            "       244            0.6417100         0.0013814     \n",
            "       245            0.6417185         0.0013247     \n",
            "       246            0.6417104         0.0012704     \n",
            "       247            0.6417182         0.0012183     \n",
            "       248            0.6417107         0.0011684     \n",
            "       249            0.6417179         0.0011205     \n",
            "       250            0.6417110         0.0010745     \n",
            "       251            0.6417176         0.0010304     \n",
            "       252            0.6417113         0.0009882     \n",
            "\n",
            "\n",
            "RESULTADOS MÉTODO ITERACIÓN SIMPLE\n",
            "La raíz es: 0.6417112665403863\n"
          ]
        }
      ]
    },
    {
      "cell_type": "markdown",
      "source": [
        "#Método de Newton-Raphson\n",
        "El método de Newton Raphson se obtiene básicamente de su interpretación geométrica. Entonces, la primera derivada en $x$ es qequivalente a la pendiente:\n",
        "\\begin{equation}\n",
        "f'(x_i)=\\frac{f(x_i)-0}{x_i-x_{i+1}}\n",
        "\\end{equation}\n",
        "despejando se tiene\n",
        "\\begin{equation}\n",
        "x_{i+1}=x_i-\\frac{f(x_i}{f'(x_i)}\n",
        "\\end{equation}\n",
        "con esta fórmula iterativa se puede llegar a la raíz. El error se calcula de forma similar al método de iteración de punto fijo."
      ],
      "metadata": {
        "id": "Z_rwwm9e-iFQ"
      }
    },
    {
      "cell_type": "code",
      "source": [
        "#Defino mi función\n",
        "def funcion2(x):\n",
        "    return (sqrt(x) - cos(x))\n",
        "\n",
        "def derivada(x):\n",
        "    return (0.5* pow(x, -0.5) + sin(x))\n",
        "\n",
        "def newton(x):\n",
        "    y = x - (funcion2(x)/derivada(x))\n",
        "    return y"
      ],
      "metadata": {
        "id": "KGCVMqZKCc9f"
      },
      "execution_count": 6,
      "outputs": []
    },
    {
      "cell_type": "code",
      "source": [
        "e = 0.000001\n",
        "xr = 0\n",
        "xrold = 0\n",
        "count = 0\n",
        "print('{:^18}{:^18}{:^18}'.format('Iteración','xr','Error aproximado%'))\n",
        "print('{:^18}{:^18,.7f}'.format(count, xr))\n",
        "xr = newton(x0)\n",
        "ea = abs((xr-xrold)/xr)*100\n",
        "\n",
        "while ea > e:\n",
        "    count += 1\n",
        "    xrold = xr\n",
        "    print('{:^18}{:^18,.7f}{:^18,.7f}'.format(count, xr, ea))\n",
        "    xr = newton(xr)\n",
        "    ea = abs((xr-xrold)/xr)*100\n",
        "\n",
        "print('{:^18}{:^18,.15f}{:^18,.15f}'.format(count +1, xr, ea))\n",
        "print (\"\\n\\nRESULTADOS MÉTODO NEWTON\")\n",
        "print(\"La raíz es: {}\".format(xr))"
      ],
      "metadata": {
        "colab": {
          "base_uri": "https://localhost:8080/"
        },
        "id": "HZuf9-L0C0Cb",
        "outputId": "dd85c4b4-fada-456f-cd6e-531e4d55ab95"
      },
      "execution_count": 7,
      "outputs": [
        {
          "output_type": "stream",
          "name": "stdout",
          "text": [
            "    Iteración             xr        Error aproximado% \n",
            "        0             0.0000000     \n",
            "        1             0.6436756        100.0000000    \n",
            "        2             0.6417149         0.3055508     \n",
            "        3             0.6417144         0.0000773     \n",
            "        4         0.641714370872883 0.000000000004931 \n",
            "\n",
            "\n",
            "RESULTADOS MÉTODO NEWTON\n",
            "La raíz es: 0.6417143708728827\n"
          ]
        }
      ]
    },
    {
      "cell_type": "markdown",
      "source": [
        "#Método de la secante\n",
        "El detalle del método de Newton-Raphson es que existen funciones donde no es sencillo calcular la derivada. Lo que se hace es aproximar la derivada con una diferencia finita\n",
        "\\begin{equation}\n",
        "f'(x_i)\\cong\\frac{f(x_{i-1})-f(x_i)}{x_{i-1}-x_i}\n",
        "\\end{equation}\n",
        "sustituyendo en la fórmula de Newton-Raphson se tiene\n",
        "\\begin{equation}\n",
        "x_{i+1}=x_i-\\frac{f(x_i)(x_{i-1}-x_i)}{f(x_{i-1})-f(x_i)}\n",
        "\\end{equation}\n",
        "A esta última fórmula iterativa se conoce como el *método de la secante*."
      ],
      "metadata": {
        "id": "pCj1q1sMEA4P"
      }
    },
    {
      "cell_type": "code",
      "source": [
        "#Definiendo la función\n",
        "def funcion3(x):\n",
        "    return (sqrt(x) - cos(x))\n",
        "\n",
        "def secante(x0, x1):\n",
        "    xr = x1 - ((funcion3(x1)*(x0 - x1))/(funcion3(x0)-funcion3(x1)))\n",
        "    return xr"
      ],
      "metadata": {
        "id": "WiR24p8kHqkK"
      },
      "execution_count": 8,
      "outputs": []
    },
    {
      "cell_type": "code",
      "source": [
        "e = 0.000001\n",
        "x0 = 0\n",
        "x1 = 1\n",
        "xrold = 0\n",
        "\n",
        "xr = x1 - ((funcion3(x1)*(x0 - x1))/(funcion3(x0)-funcion3(x1)))\n",
        "\n",
        "count = 0\n",
        "print('{:^18}{:^18}{:^18}'.format('Iteración','xr','Error aproximado%'))\n",
        "print('{:^18}{:^18,.7f}'.format(count, xr))\n",
        "\n",
        "x0 = x1\n",
        "x1 = xr\n",
        "xr = secante(x0, x1)\n",
        "ea = abs((xr-xrold)/xr)*100\n",
        "\n",
        "while ea > e:\n",
        "    count += 1\n",
        "    xrold = xr\n",
        "    print('{:^18}{:^18,.7f}{:^18,.7f}'.format(count, xr, ea))\n",
        "    x0 = x1\n",
        "    x1 = xr\n",
        "    xr = secante(x0, x1)\n",
        "    ea = abs((xr-xrold)/xr)*100\n",
        "\n",
        "print('{:^18}{:^18,.7f}{:^18,.7f}'.format(count +1, xr, ea))\n",
        "print (\"\\n\\nRESULTADOS MÉTODO SECANTE\")\n",
        "print(\"La raíz es: {}\".format(xr))"
      ],
      "metadata": {
        "colab": {
          "base_uri": "https://localhost:8080/"
        },
        "id": "jOLBvNBWHx6g",
        "outputId": "cf988c61-132e-4141-dc03-1db5f005ea3b"
      },
      "execution_count": 9,
      "outputs": [
        {
          "output_type": "stream",
          "name": "stdout",
          "text": [
            "    Iteración             xr        Error aproximado% \n",
            "        0             0.6850734     \n",
            "        1             0.6437534        100.0000000    \n",
            "        2             0.6417259         0.3159357     \n",
            "        3             0.6417144         0.0018032     \n",
            "        4             0.6417144         0.0000005     \n",
            "\n",
            "\n",
            "RESULTADOS MÉTODO SECANTE\n",
            "La raíz es: 0.6417143708728872\n"
          ]
        }
      ]
    },
    {
      "cell_type": "markdown",
      "source": [
        "#Obtención de raíces con roots"
      ],
      "metadata": {
        "id": "D3hxul6zIEZg"
      }
    },
    {
      "cell_type": "markdown",
      "source": [
        "#Método de Bisección\n",
        "A continuación se muestra el método de bisección con roots para comparalo con el método de iteración de punto fijo."
      ],
      "metadata": {
        "id": "N5iPEnA4ILic"
      }
    },
    {
      "cell_type": "code",
      "source": [
        "#Roots\n",
        "x1 = 0\n",
        "x2 = 1\n",
        "sol= root_scalar(funcion2, method='bisect', bracket=[x1,x2])\n",
        "\n",
        "print (\"\\n\\nRESULTADOS MÉTODO BISECCIÓN CON ROOTS\")\n",
        "print(\"La raíz es: {}\".format(sol.root))\n",
        "print(\"Datos extra: \\n {}\".format(sol))"
      ],
      "metadata": {
        "colab": {
          "base_uri": "https://localhost:8080/"
        },
        "id": "S20BSY-6JPWU",
        "outputId": "b5ce4643-a2b1-41a6-9c2a-a16dec8ea467"
      },
      "execution_count": 10,
      "outputs": [
        {
          "output_type": "stream",
          "name": "stdout",
          "text": [
            "\n",
            "\n",
            "RESULTADOS MÉTODO BISECCIÓN CON ROOTS\n",
            "La raíz es: 0.6417143708731601\n",
            "Datos extra: \n",
            "       converged: True\n",
            "           flag: converged\n",
            " function_calls: 41\n",
            "     iterations: 39\n",
            "           root: 0.6417143708731601\n"
          ]
        }
      ]
    },
    {
      "cell_type": "markdown",
      "source": [
        "#Método de Newton-Raphson\n",
        "Al igual que el código anterior, se muestra el método de Newton-Raphson con roots y se compara con el código utilzado anteriormente."
      ],
      "metadata": {
        "id": "QWg5keVFJWmj"
      }
    },
    {
      "cell_type": "code",
      "source": [
        "x1 = 0\n",
        "x2 = 1\n",
        "sol= root_scalar(funcion2, method='newton', x0 = 1, fprime=derivada)\n",
        "\n",
        "print (\"\\n\\nRESULTADOS MÉTODO NEWTON RAPHSON CON ROOTS\")\n",
        "print(\"La raíz es: {} \\n\".format(sol.root))\n",
        "print(\"Datos extra: \\n {}\".format(sol))"
      ],
      "metadata": {
        "colab": {
          "base_uri": "https://localhost:8080/"
        },
        "id": "Bk9gTBKlJlsv",
        "outputId": "6c039696-742b-420b-f7eb-cc514613abe5"
      },
      "execution_count": 11,
      "outputs": [
        {
          "output_type": "stream",
          "name": "stdout",
          "text": [
            "\n",
            "\n",
            "RESULTADOS MÉTODO NEWTON RAPHSON CON ROOTS\n",
            "La raíz es: 0.6417143708728826 \n",
            "\n",
            "Datos extra: \n",
            "       converged: True\n",
            "           flag: converged\n",
            " function_calls: 8\n",
            "     iterations: 4\n",
            "           root: 0.6417143708728826\n"
          ]
        }
      ]
    },
    {
      "cell_type": "markdown",
      "source": [
        "#Método de la secante\n",
        "Por último, se muestran los resultados usando el método de la secante con roots para comparar con los resultados obtenidos anteriormente."
      ],
      "metadata": {
        "id": "WzbbmWw_JuBm"
      }
    },
    {
      "cell_type": "code",
      "source": [
        "sol= root_scalar(funcion2,method='secant', x0 = 0, x1 = 1)\n",
        "\n",
        "print (\"\\n\\nRESULTADOS MÉTODO SECANTE CON ROOTS\")\n",
        "print(\"La raíz es: {} \\n\".format(sol.root))\n",
        "print(\"Datos extra: \\n {}\".format(sol))"
      ],
      "metadata": {
        "colab": {
          "base_uri": "https://localhost:8080/"
        },
        "id": "8WmEwCVlKL2C",
        "outputId": "ddf51b6e-250e-4fbe-c191-3f3972c77f32"
      },
      "execution_count": 12,
      "outputs": [
        {
          "output_type": "stream",
          "name": "stdout",
          "text": [
            "\n",
            "\n",
            "RESULTADOS MÉTODO SECANTE CON ROOTS\n",
            "La raíz es: 0.6417143708728826 \n",
            "\n",
            "Datos extra: \n",
            "       converged: True\n",
            "           flag: converged\n",
            " function_calls: 7\n",
            "     iterations: 6\n",
            "           root: 0.6417143708728826\n"
          ]
        }
      ]
    }
  ]
}