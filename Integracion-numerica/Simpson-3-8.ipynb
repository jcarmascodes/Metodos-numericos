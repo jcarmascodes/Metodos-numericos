{
  "nbformat": 4,
  "nbformat_minor": 0,
  "metadata": {
    "colab": {
      "provenance": []
    },
    "kernelspec": {
      "name": "python3",
      "display_name": "Python 3"
    },
    "language_info": {
      "name": "python"
    }
  },
  "cells": [
    {
      "cell_type": "markdown",
      "source": [
        "#Regla de Simpson 3/8\n",
        "De manera similar a la obtención de la regla del trapecio y Simpson 1/3, es posible ajustar un polinomio de Lagrange de tercer grado a cuatro puntos e integrarlo:\n",
        "\\begin{equation}\n",
        "I=\\int_a^bf(x)dx\\cong\\int_a^bf_3(x)dx\n",
        "\\end{equation}\n",
        "Al igual que los otros casos, haciendo la integral y haciendo las transformaciones necesarias, el resultado es\n",
        "\\begin{equation}\n",
        "I\\cong(b-a)\\frac{f(x_0)+3f(x_1)+3f(x_2)+f(x_3)}{8}\n",
        "\\end{equation}\n",
        "Al igual que los otros se pueden hacer las integrales por intervalos y llegar a un expresión similar a la regla de Simpson 1/3."
      ],
      "metadata": {
        "id": "tORYufLb4yMP"
      }
    },
    {
      "cell_type": "code",
      "execution_count": 1,
      "metadata": {
        "id": "rQUAXJLfzBfk"
      },
      "outputs": [],
      "source": [
        "#Código hecho por: Diana Ailed Hernández Bustos\n",
        "import numpy as np\n",
        "import matplotlib.pyplot as plt\n",
        "import scipy.integrate as integrate\n",
        "from scipy.integrate import quad\n"
      ]
    },
    {
      "cell_type": "markdown",
      "source": [
        "# Integral Simpson 3/8 ==> se requieren # subintervalos múltiplos de 3, por lo que serán puntos como (4,7,10 en adelante)"
      ],
      "metadata": {
        "id": "SB-BGaRu9I80"
      }
    },
    {
      "cell_type": "code",
      "source": [
        "def func(x):\n",
        "    return 0.2 + 25*x - 200*x**2 + 675*x**3 - 900*x**4 + 400*x**5\n",
        "\n",
        "def sim38(x, n, h):\n",
        "    suma1 = 0\n",
        "    suma2 = 0\n",
        "    fx0=func(a)\n",
        "    fxn=func(b)\n",
        "    #Cálculos\n",
        "    for i in range(1, n-1, 3):\n",
        "        suma1 = (func(x[i]) + func(x[i+1])) + suma1\n",
        "    suma1 = 3*suma1\n",
        "\n",
        "    for i in range(3, n-2, 3):\n",
        "        suma2 = (func(x[i])) + suma2\n",
        "    suma2 = 2*suma2\n",
        "    integral = (suma1 + suma2 + fx0 + fxn)*(3*h/8)\n",
        "\n",
        "    return integral\n",
        "\n",
        "def grafica(x, a, b, d):\n",
        "    #Gráfica:\n",
        "    k = 100\n",
        "    x1 = np.linspace(a, b, k)\n",
        "    fx = np.zeros([k])\n",
        "    y = np.zeros([d])\n",
        "\n",
        "    for i in range (k):\n",
        "        fx[i] = func(x1[i])\n",
        "\n",
        "    for i in range (d):\n",
        "        y[i] = func(x[i])\n",
        "\n",
        "    plt.title('Integración')\n",
        "    plt.xlabel('x')\n",
        "    plt.ylabel('f(x)')\n",
        "    plt.plot(x1, fx ,color=\"blue\",linewidth=2, label= \"Función\")\n",
        "    plt.scatter(x, y, color='black', label = 'Intérvalos')\n",
        "    plt.legend()\n",
        "    plt.show()\n",
        "    return y"
      ],
      "metadata": {
        "id": "VF8_Ufsu9PjN"
      },
      "execution_count": 2,
      "outputs": []
    },
    {
      "cell_type": "code",
      "source": [
        "n = 18         # Intervalos\n",
        "a = 0\n",
        "b = 0.8\n",
        "h = (b-a)/n\n",
        "\n",
        "p = n+1       # No de puntos = intervalos + 1\n",
        "x = np.linspace(a,b,p)\n",
        "d = len(x)\n",
        "\n",
        "#Integral analítica:\n",
        "integral, err = integrate.quad(func, a, b)\n",
        "A = integral # Valor analítico\n",
        "\n",
        "#Cálculos:\n",
        "I = sim38 (x, n, h)\n",
        "et = np.abs((A-I)/A)*100\n",
        "print(\"REGLA SIMPSON 3/8:\")\n",
        "print(\"Valor obtenido: %.8f\" %I)\n",
        "print(\"Valor analítico: %.8f\" %A)\n",
        "print(\"Error porcentual : %.8f\" %et)"
      ],
      "metadata": {
        "colab": {
          "base_uri": "https://localhost:8080/"
        },
        "id": "7x5OnX9-9bkp",
        "outputId": "ff0149d1-7248-4f3b-8687-344b1109bc2b"
      },
      "execution_count": 3,
      "outputs": [
        {
          "output_type": "stream",
          "name": "stdout",
          "text": [
            "REGLA SIMPSON 3/8:\n",
            "Valor obtenido: 1.64043969\n",
            "Valor analítico: 1.64053333\n",
            "Error porcentual : 0.00570816\n"
          ]
        }
      ]
    },
    {
      "cell_type": "markdown",
      "source": [
        "# Si no se proporcionan intervalos ==> se acomodan de forma que den múltiplos de 3"
      ],
      "metadata": {
        "id": "myMfgcPF9rah"
      }
    },
    {
      "cell_type": "code",
      "source": [
        "a = 0\n",
        "b = 0.8\n",
        "es = 1E-4\n",
        "print(es)\n",
        "\n",
        "#Integral analítica:\n",
        "integral, err = integrate.quad(func, a, b)\n",
        "A = integral # Valor analítico\n",
        "\n",
        "#Cálculos:\n",
        "print('{:^15}{:^15}{:^15}{:^20}{:^20}'.format('#Intervalos', 'h','Valor analítico' ,'Int. Simpson 3/8', 'Error %'))\n",
        "for i in range(3,100,3): #Así te aseguras que va de 3 en 3\n",
        "    n= i\n",
        "    h = (b-a)/n\n",
        "    p = n+1       # No de puntos = intervalos + 1\n",
        "    x = np.linspace(a,b,p)\n",
        "    d = len(x)\n",
        "    #Simpson:\n",
        "    I = sim38 (x, n, h)\n",
        "    et = np.abs((A-I)/A)*100\n",
        "    print('{:^15}{:^15.5}{:^15.10}{:^20.10}{:^20.5E}'.format(n, h, A, I, et))\n",
        "\n",
        "    if et < es:\n",
        "        break\n",
        "#Gráfica:\n",
        "j = grafica(x, a, b, d)"
      ],
      "metadata": {
        "colab": {
          "base_uri": "https://localhost:8080/",
          "height": 802
        },
        "id": "IriPPyvV903P",
        "outputId": "dde76716-c2e8-4e9c-abcc-47ad07a863ae"
      },
      "execution_count": 4,
      "outputs": [
        {
          "output_type": "stream",
          "name": "stdout",
          "text": [
            "0.0001\n",
            "  #Intervalos         h       Valor analítico  Int. Simpson 3/8        Error %       \n",
            "       3           0.26667      1.640533333       1.51917037         7.39777E+00     \n",
            "       6           0.13333      1.640533333      1.632948148         4.62361E-01     \n",
            "       9          0.088889      1.640533333      1.639035025         9.13306E-02     \n",
            "      12          0.066667      1.640533333      1.640059259         2.88976E-02     \n",
            "      15          0.053333      1.640533333      1.640339153         1.18364E-02     \n",
            "      18          0.044444      1.640533333      1.640439689         5.70816E-03     \n",
            "      21          0.038095      1.640533333      1.640482786         3.08112E-03     \n",
            "      24          0.033333      1.640533333      1.640503704         1.80610E-03     \n",
            "      27           0.02963      1.640533333      1.640514836         1.12754E-03     \n",
            "      30          0.026667      1.640533333      1.640521197         7.39777E-04     \n",
            "      33          0.024242      1.640533333      1.640525044         5.05278E-04     \n",
            "      36          0.022222      1.640533333      1.640527481         3.56760E-04     \n",
            "      39          0.020513      1.640533333      1.640529084         2.59017E-04     \n",
            "      42          0.019048      1.640533333      1.640530174         1.92570E-04     \n",
            "      45          0.017778      1.640533333      1.640530936         1.46129E-04     \n",
            "      48          0.016667      1.640533333      1.640531481         1.12881E-04     \n",
            "      51          0.015686      1.640533333       1.64053188         8.85738E-05     \n"
          ]
        },
        {
          "output_type": "display_data",
          "data": {
            "text/plain": [
              "<Figure size 640x480 with 1 Axes>"
            ],
            "image/png": "[encoded data removed]"
          },
          "metadata": {}
        }
      ]
    }
  ]
}
