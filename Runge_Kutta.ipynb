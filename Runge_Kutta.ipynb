{
  "nbformat": 4,
  "nbformat_minor": 0,
  "metadata": {
    "colab": {
      "provenance": []
    },
    "kernelspec": {
      "name": "python3",
      "display_name": "Python 3"
    },
    "language_info": {
      "name": "python"
    }
  },
  "cells": [
    {
      "cell_type": "markdown",
      "source": [
        "#Métodos de Runge-Kutta\n",
        "Los métodos de *Runge-Kutta (RK)* logran la exactitud del procedimiento de la serie de Taylor sin necesitar del cálculo de derivadas de orden superior. Exsiten muchas variantes, pero todas tienen la forma generalizada de la ecuación:\n",
        "\\begin{equation}\n",
        "y_{i+1}=y_i+\\phi(x_i,y_i,h)h\n",
        "\\end{equation}\n",
        "donde $\\phi(x_i,y_i,h)$ se conoce como *función incremento*, la cual puede interpretarse como una pendiente representativa en el intervalo. La función incremento se escribe en forma general como\n",
        "\\begin{equation}\n",
        "\\phi=a_1k_1+a_2k_2+...+a_nk_n\n",
        "\\end{equation}\n",
        "donde las $a$ son constantes y las $k$ son\n",
        "\\begin{eqnarray}\n",
        "k_1=f(x_i,y_i)\\\\\n",
        "k_2=f(x_i+p_1h,y_i+q_{11}k_1h)\\\\\n",
        "k_3=f(x_i+p_2h,y_i+q_{21}k_1h+q_{22}k_2h)\\\\.\\\\.\\\\.\\\\\n",
        "k_n=f(x_i+p_{n-1}h,y_i+q_{n-1,1}k_1h+q_{n-1,2}k_2h+...+q_{n-1,n-1}k_{n-1}h)\n",
        "\\end{eqnarray}\n",
        "donde las $p$ y las $q$ son constantes. Observando que las $k$ son relaciones de recurrencia. En estos casos, dependiendo del valor de $n$ es el orden del método de Runge-Kutta, es decir, para $n=1$ es el método de Runge-Kutta de primer orden. A continuación se veran los casos de segundo y cuarto orden."
      ],
      "metadata": {
        "id": "KfGuH5k5Igcv"
      }
    },
    {
      "cell_type": "markdown",
      "source": [
        "#Método de Runge-Kutta de 2° orden\n",
        "La versión de segundo orden del método de Runge-Kutta es\n",
        "\\begin{equation}\n",
        "y_{i+1}=y_i+(a_1k_1+a_2k_2)h\n",
        "\\end{equation}\n",
        "donde\n",
        "\\begin{eqnarray}\n",
        "k_1=f(x_i,y_i)\\\\\n",
        "k_2=f(x_i+p_1h,y_i+q_{11}k_1h)\n",
        "\\end{eqnarray}\n",
        "los valores de $a_1$, $a_2$, $p_1$ y $q_{11}$ se evalúan al igualar la ecuación de Runge-Kutta con la expansión de la serie de Taylor hasta el término de segundo orden. Al hacerlo, se desarrolan tres ecuaciones con cuatro constantes desconocidas que si se resuelven se tiene\n",
        "\\begin{eqnarray}\n",
        "a_1=1-a_2\\\\\n",
        "p_1=q_{11}=\\frac{1}{2a_2}\n",
        "\\end{eqnarray}\n",
        "Como existen una infinidad de valores para $a_2$, en el siguiente ejemplo se toma uno de los más usados: *el método de Heun con un solo corrector* ($a_2=\\frac{1}{2}$)."
      ],
      "metadata": {
        "id": "PaGljSDaRaT1"
      }
    },
    {
      "cell_type": "markdown",
      "source": [
        "#Ejemplo:"
      ],
      "metadata": {
        "id": "H8__NJM0x0-C"
      }
    },
    {
      "cell_type": "code",
      "execution_count": 2,
      "metadata": {
        "id": "I-UMmui0IY5-"
      },
      "outputs": [],
      "source": [
        "#Cógido hecho por: Joel Alejandro García Paredes\n",
        "#Runge-Kutta\n",
        "#2 orden\n",
        "import math\n",
        "xi1=0\n",
        "yi1=1\n",
        "h1=0.01\n",
        "def f(x,y):\n",
        "  return (2*math.exp(x)+4*x)*math.sqrt(y)\n",
        "\n",
        "def y1(x):\n",
        "  return (math.exp(x)+x**2)**2\n",
        "\n",
        "a12=0.5\n",
        "a22=a12\n",
        "contador=0\n",
        "while xi1<=0.5: #para h1 seran 50 valores de 0 a 0.5\n",
        "  k12=f(xi1,yi1)\n",
        "  k22=f(xi1+h1,yi1+k12*h1)\n",
        "  yi11=yi1+(a12*k12+a22*k22)*h1\n",
        "  error12=abs(100*(y1(xi1)-yi1)/y1(xi1))\n",
        "  #print(contador,y1(xi1),yi1,error12)\n",
        "  xi1=xi1+h1\n",
        "  yi1=yi11\n",
        "  contador+=1"
      ]
    },
    {
      "cell_type": "code",
      "source": [
        "#para h=0.1\n",
        "xi2=0\n",
        "yi2=1\n",
        "h2=0.1\n",
        "contador=0\n",
        "while xi2<0.5: #para h2 seran 5 valores de 0 a 0.5\n",
        "  k12=f(xi2,yi2)\n",
        "  k22=f(xi2+h2,yi2+k12*h2)\n",
        "  yi21=yi2+(a12*k12+a22*k22)*h2\n",
        "  error22=abs(100*(y1(xi2)-yi2)/y1(xi2))\n",
        "  print(contador,y1(xi2),yi2,error22)\n",
        "  xi2=xi2+h2\n",
        "  yi2=yi21\n",
        "  contador+=1"
      ],
      "metadata": {
        "colab": {
          "base_uri": "https://localhost:8080/"
        },
        "id": "BNDTRoZ_r5O3",
        "outputId": "81340708-f633-4d05-bc51-8602a679933a"
      },
      "execution_count": 3,
      "outputs": [
        {
          "output_type": "stream",
          "name": "stdout",
          "text": [
            "0 1.0 1 0.0\n",
            "1 1.243606176521683 1.2429743106459519 0.05080916190835166\n",
            "2 1.591136918294084 1.5893045084103514 0.11516355774694487\n",
            "3 2.07319338575419 2.0693327529970515 0.18621672168485295\n",
            "4 2.7285248317376745 2.721517057999395 0.2568337900673052\n"
          ]
        }
      ]
    },
    {
      "cell_type": "code",
      "source": [
        "#para h=0.2\n",
        "xi3=0\n",
        "yi3=1\n",
        "h3=0.2\n",
        "contador=0\n",
        "while xi3<0.5: #para h2 seran 2 valores de 0 a 0.5\n",
        "  k12=f(xi3,yi3)\n",
        "  k22=f(xi3+h3,yi3+k12*h3)\n",
        "  yi31=yi3+(a12*k12+a22*k22)*h3\n",
        "  error32=abs(100*(y1(xi3)-yi3)/y1(xi3))\n",
        "  print(contador,y1(xi3),yi3,error32)\n",
        "  xi3=xi3+h3\n",
        "  yi3=yi31\n",
        "  contador+=1"
      ],
      "metadata": {
        "colab": {
          "base_uri": "https://localhost:8080/"
        },
        "id": "fGkO91iPsBFB",
        "outputId": "12f66906-8e4b-4fff-f058-3d4fc4cdfbff"
      },
      "execution_count": 4,
      "outputs": [
        {
          "output_type": "stream",
          "name": "stdout",
          "text": [
            "0 1.0 1 0.0\n",
            "1 1.591136918294084 1.5836939231125335 0.46777842283556315\n",
            "2 2.7285248317376745 2.7018618831393795 0.9771928145258828\n"
          ]
        }
      ]
    },
    {
      "cell_type": "code",
      "source": [
        "#Tabla de valores\n",
        "Tabla=[[h1,yi1,y1(xi1),error12],\n",
        "       [h2,yi2,y1(xi2),error22],\n",
        "       [h3,yi3,y1(xi3),error32],]\n",
        "from tabulate import tabulate\n",
        "print(tabulate(Tabla,headers=['h','yi','y','error%']))"
      ],
      "metadata": {
        "colab": {
          "base_uri": "https://localhost:8080/"
        },
        "id": "hSySN8xysJlD",
        "outputId": "400299a5-89e0-4168-9974-4a9bdb5539cb"
      },
      "execution_count": 5,
      "outputs": [
        {
          "output_type": "stream",
          "name": "stdout",
          "text": [
            "   h       yi        y      error%\n",
            "----  -------  -------  ----------\n",
            "0.01  3.60502  3.60514  0.00341261\n",
            "0.1   3.59355  3.60514  0.256834\n",
            "0.2   4.69528  4.76164  0.977193\n"
          ]
        }
      ]
    },
    {
      "cell_type": "markdown",
      "source": [
        "#Método de Runge-Kutta 4° orden\n",
        "El más popular de los métodos de RK es el de cuarto orden. Al igual que el de segundo orden, el de cuarto orden tiene una infinidad de variantes, entonces se muestra un método muy usado llamado *método clásico RK de cuarto orden*:\n",
        "\\begin{equation}\n",
        "y_{i+1}=y_i+\\frac{1}{6}(k_1+2k_2+2k_3+k_4)h\n",
        "\\end{equation}\n",
        "donde:\n",
        "\\begin{eqnarray}\n",
        "k_1=f(x_i,y_i)\\\\\n",
        "k_2=f\\left(x_i+\\frac{1}{2}h,y_i+\\frac{1}{2}k_1h\\right)\\\\\n",
        "k_3=f\\left(x_i+\\frac{1}{2}h,y_i+\\frac{1}{2}k_2h\\right)\\\\\n",
        "k_4=f(x_i+h,y_i+k_3h)\n",
        "\\end{eqnarray}"
      ],
      "metadata": {
        "id": "G0j-uagNsZ3m"
      }
    },
    {
      "cell_type": "markdown",
      "source": [
        "#Ejemplo:"
      ],
      "metadata": {
        "id": "w0J38z9Vx4zl"
      }
    },
    {
      "cell_type": "code",
      "source": [
        "#Rugen-Kutta 4 orden\n",
        "#para h=0.01\n",
        "xi1=0\n",
        "yi1=1\n",
        "a14=1\n",
        "a24=2\n",
        "a34=2\n",
        "a44=1\n",
        "contador=0\n",
        "while xi1<=0.5:\n",
        "  k14=f(xi1,yi1)\n",
        "  k24=f(xi1+0.5*h1,yi1+0.5*k14*h1)\n",
        "  k34=f(xi1+0.5*h1,yi1+0.5*k24*h1)\n",
        "  k44=f(xi1+h1,yi1+k34*h1)\n",
        "  yi14=yi1+(1/6)*(a14*k14+a24*k24+a34*k34+a44*k44)*h1\n",
        "  error14=abs((y1(xi1)-yi1)/y1(xi1))\n",
        "  #print(contador,y1(xi1),yi1,error14)\n",
        "  xi1=xi1+h1\n",
        "  yi1=yi14\n",
        "  contador+=1"
      ],
      "metadata": {
        "id": "HSyQslhUx6S2"
      },
      "execution_count": 7,
      "outputs": []
    },
    {
      "cell_type": "code",
      "source": [
        "#para h=0.1\n",
        "xi2=0\n",
        "yi2=1\n",
        "contador=0\n",
        "while xi2<=0.5:\n",
        "  k14=f(xi2,yi2)\n",
        "  k24=f(xi2+0.5*h2,yi2+0.5*k14*h2)\n",
        "  k34=f(xi2+0.5*h2,yi2+0.5*k24*h2)\n",
        "  k44=f(xi2+h2,yi2+k34*h2)\n",
        "  yi24=yi2+(1/6)*(a14*k14+a24*k24+a34*k34+a44*k44)*h2\n",
        "  error24=abs((y1(xi2)-yi2)/y1(xi2))\n",
        "  print(contador,y1(xi2),yi2,error24)\n",
        "  xi2=xi2+h2\n",
        "  yi2=yi24\n",
        "  contador+=1"
      ],
      "metadata": {
        "colab": {
          "base_uri": "https://localhost:8080/"
        },
        "id": "081wK3M5yIQq",
        "outputId": "662e6fdf-c22d-4dc8-d132-5fcc81e4996e"
      },
      "execution_count": 8,
      "outputs": [
        {
          "output_type": "stream",
          "name": "stdout",
          "text": [
            "0 1.0 1 0.0\n",
            "1 1.243606176521683 1.2436032757202382 2.3325724008067575e-06\n",
            "2 1.591136918294084 1.5911292605273883 4.812764135883311e-06\n",
            "3 2.07319338575419 2.0731783349567614 7.259717078120476e-06\n",
            "4 2.7285248317376745 2.728498942908463 9.488214624390747e-06\n",
            "5 3.6051424638091096 3.6051015091048617 1.136007929202551e-05\n"
          ]
        }
      ]
    },
    {
      "cell_type": "code",
      "source": [
        "#para h=0.2\n",
        "xi3=0\n",
        "yi3=1\n",
        "contador=0\n",
        "while xi3<=0.5:\n",
        "  k14=f(xi3,yi3)\n",
        "  k24=f(xi3+0.5*h3,yi3+0.5*k14*h3)\n",
        "  k34=f(xi3+0.5*h2,yi3+0.5*k24*h3)\n",
        "  k44=f(xi3+h3,yi3+k34*h3)\n",
        "  yi34=yi3+(1/6)*(a14*k14+a24*k24+a34*k34+a44*k44)*h3\n",
        "  error34=abs((y1(xi3)-yi3)/y1(xi3))\n",
        "  print(contador,y1(xi3),yi3,error34)\n",
        "  xi3=xi3+h3\n",
        "  yi3=yi34\n",
        "  contador+=1"
      ],
      "metadata": {
        "colab": {
          "base_uri": "https://localhost:8080/"
        },
        "id": "kyoKzXA0yKot",
        "outputId": "137320ca-9d7e-4bcf-b310-ea08a16cdac6"
      },
      "execution_count": 9,
      "outputs": [
        {
          "output_type": "stream",
          "name": "stdout",
          "text": [
            "0 1.0 1 0.0\n",
            "1 1.591136918294084 1.5647344777445966 0.016593443496864112\n",
            "2 2.7285248317376745 2.6570356900908667 0.0262006564189044\n"
          ]
        }
      ]
    },
    {
      "cell_type": "code",
      "source": [
        "#Tabla de valores\n",
        "Tabla2=[[h1,yi1,y1(xi1),error14],\n",
        "        [h2,yi2,y1(xi2),error24],\n",
        "        [h3,yi3,y1(xi3),error34],]\n",
        "print(tabulate(Tabla2,headers=['h','yi','y','error%']))"
      ],
      "metadata": {
        "colab": {
          "base_uri": "https://localhost:8080/"
        },
        "id": "8tLqHyYYyU87",
        "outputId": "9f16e8c2-50d9-4244-f560-9e5d386e2bbe"
      },
      "execution_count": 10,
      "outputs": [
        {
          "output_type": "stream",
          "name": "stdout",
          "text": [
            "   h       yi        y       error%\n",
            "----  -------  -------  -----------\n",
            "0.01  3.60514  3.60514  1.27161e-09\n",
            "0.1   4.76158  4.76164  1.13601e-05\n",
            "0.2   4.61436  4.76164  0.0262007\n"
          ]
        }
      ]
    }
  ]
}