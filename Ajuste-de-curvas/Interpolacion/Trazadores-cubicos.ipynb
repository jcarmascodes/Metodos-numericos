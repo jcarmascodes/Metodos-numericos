{
  "nbformat": 4,
  "nbformat_minor": 0,
  "metadata": {
    "colab": {
      "provenance": []
    },
    "kernelspec": {
      "name": "python3",
      "display_name": "Python 3"
    },
    "language_info": {
      "name": "python"
    }
  },
  "cells": [
    {
      "cell_type": "markdown",
      "source": [
        "#Interpolación mediante trazadores(splines)\n",
        "Un procedimiento alternativo de interpolación además de la interpolación de Lagrange, que consiste en colocar polinomios de grado inferior en subconjuntos de los puntos asociados con datos. Tales polinomios se denominan *trazadores* o *splines*.\n"
      ],
      "metadata": {
        "id": "tNQzuBZO0nqx"
      }
    },
    {
      "cell_type": "markdown",
      "source": [
        "#Trazadores cúbicos\n",
        "El objetivo en los trazadores cúbicos es es obtener un polinomio de tercer grado para cada intervalo entre los nodos:\n",
        "\\begin{equation}\n",
        "f_i(x)=a_ix^3+b_ix^2+c_ix+d_i\n",
        "\\end{equation}\n",
        "Así, para $n+1$ puntos asociados con datos ($i=1,2,...,n$) existen $n$ intervalos y, en consecuencia, $4n$ incógnitas a evaluar. Se requieren $4n$ condiciones para evaluar las incógnitas. Éstas son:\n",
        "1. Los valores de la función deben ser iguales en los nodos interiores ($2n-2$ condiciones).\n",
        "2. La primera y última función deben pasar a través de los puntos extremos ($2$ condiciones).\n",
        "3. Las primeras derivadas de los nodos interiores deben ser iguales ($n-1$ condiciones).\n",
        "4. Las segundas derivadas en los nodos interiores deben ser iguales ($n-1$ condiciones).\n",
        "5. Las segundas derivadas en los nodos extremos deben ser cero ($2$ condiciones).\n",
        "\n",
        "Realizando las deducciones correspondientes, la ecuación cúbica para cada intervalo es:\n",
        "\\begin{equation}\n",
        "f_i(x)=\\frac{f_i''(x_{i-1})}{6(x_i-x_{i-1})}(x_i-x)^3+\\frac{f_i''(x_i)}{6(x_i-x_{i-1})}(x-x_{i-1})^3+\\left[\\frac{f(x_{i-1})}{x_i-x_{i-1}}-\\frac{f''(x_{i-1})(x_i-x_{i-1})}{6}\\right](x_i-x)+\\left[\\frac{f(x_i)}{x_i-x_{i-1}}-\\frac{f''(x_i)(x_i-x_{i-1})}{6}\\right](x-x_{i-1})\n",
        "\\end{equation}\n",
        "Esta ecuación contiene solo dos incógnitas (las segundas derivadas en los extremos en cada intervalo). Las incógnitas se evaluan emppleando la siguiente ecuación:\n",
        "\\begin{equation}\n",
        "(x_i-x_{i-1})f''(x_{i-1})+2(x_{i+1}-x_{i-1})f''(x_i)+(x_{i+1}-x_i)f''(x_{i+1})=\\frac{6}{x_{i+1}-x_i}[f(x_{i+1})-f(x_i)]+\\frac{6}{x_i-x_{i-1}}[f(x_{i-1})-f(x_i)]\n",
        "\\end{equation}\n",
        "Si se escribe esta ecuación para todos los nodos interiores, resultan $n-1$ ecuaciones simultáneas con $n-1$ incógnitas (recuerde que las segundas derivadas en los nodos interiores es cero)."
      ],
      "metadata": {
        "id": "AAaAg2Y13HuE"
      }
    },
    {
      "cell_type": "markdown",
      "source": [
        "#Ejemplo:\n",
        "Profundidad de la ternoclina del lago Platte."
      ],
      "metadata": {
        "id": "q9XHKjCfTQQ8"
      }
    },
    {
      "cell_type": "code",
      "execution_count": 2,
      "metadata": {
        "id": "9tY9-PY30j5l"
      },
      "outputs": [],
      "source": [
        "#Código hecho por: Joel Alejandro García Paredes\n",
        "T=[22.8,22.8,22.8,20.6,13.9,11.7,11.1,11.1] #Temperatura en °C\n",
        "z=[0,2.3,4.9,9.1,13.7,18.3,22.9,27.2] #profundidad en m\n",
        "\n",
        "x0=z[0]\n",
        "x1=z[4]\n",
        "x2=z[5]\n",
        "x3=z[7]\n",
        "T0=T[0]\n",
        "T4=T[4]\n",
        "T5=T[5]\n",
        "T7=T[7]\n",
        "\n",
        "#Primero se encuentran las segundas derivadas de los nodos interiores\n",
        "#Metodo de Thomas\n",
        "e2=2.6\n",
        "e3=4.2\n",
        "e4=4.6\n",
        "e5=4.6\n",
        "e6=4.6\n",
        "f1=22.54\n",
        "f2=13.6\n",
        "f3=17.6\n",
        "f4=18.4\n",
        "f5=27.6\n",
        "f6=17.8\n",
        "g1=2.6\n",
        "g2=4.2\n",
        "g3=4.6\n",
        "g4=4.6\n",
        "g5=4.6\n",
        "A=[[f1,g1,0,0,0,0],\n",
        "   [e2,f2,g2,0,0,0],\n",
        "   [0,e3,f3,g3,0,0],\n",
        "   [0,0,e4,f4,g4,0],\n",
        "   [0,0,0,e5,f5,g5],\n",
        "   [0,0,0,0,e6,f6]]\n",
        "n=len(A)\n",
        "e=[0,e2,e3,e4,e5,e6]\n",
        "f=[f1,f2,f3,f4,f5,f6]\n",
        "g=[g1,g2,g3,g4,g5,0]\n",
        "\n",
        "for i in range(1,n):\n",
        " e[i]=e[i]/f[i-1]\n",
        " f[i]=f[i]-e[i]*g[i-1]\n",
        "\n",
        "e2=e[1]\n",
        "e3=e[2]\n",
        "e4=e[3]\n",
        "e5=e[4]\n",
        "e6=e[5]\n",
        "f1=f[0]\n",
        "f2=f[1]\n",
        "f3=f[2]\n",
        "f4=f[3]\n",
        "f5=f[4]\n",
        "f6=f[5]\n",
        "\n",
        "A=[[f1,g1,0,0,0,0],\n",
        "   [e2,f2,g2,0,0,0],\n",
        "   [0,e3,f3,g3,0,0],\n",
        "   [0,0,e4,f4,g4,0],\n",
        "   [0,0,0,e5,f5,g5],\n",
        "   [0,0,0,0,e6,f6]]\n",
        "\n",
        "L=[[1,0,0,0,0,0],\n",
        "   [e2,1,0,0,0,0],\n",
        "   [0,e3,1,0,0,0],\n",
        "   [0,0,e4,1,0,0],\n",
        "   [0,0,0,e5,1,0],\n",
        "   [0,0,0,0,e6,1]]\n",
        "\n",
        "U=[[f1,g1,0,0,0,0],\n",
        "   [0,f2,g2,0,0,0],\n",
        "   [0,0,f3,g3,0,0],\n",
        "   [0,0,0,f4,g4,0],\n",
        "   [0,0,0,0,f5,g5],\n",
        "   [0,0,0,0,0,f6]]\n",
        "\n",
        "b1=0\n",
        "b2=16.43\n",
        "b3=-5.6\n",
        "b4=5.87\n",
        "b5=2.09\n",
        "b6=0.78\n",
        "\n",
        "d1=b1\n",
        "d2=b2-d1*L[1][0]\n",
        "d3=b3-d2*L[2][1]\n",
        "d4=b4-d3*L[3][2]\n",
        "d5=b5-d4*L[4][3]\n",
        "d6=b6-d5*L[5][4]\n",
        "D=[d1,d2,d3,d4,d5,d6]\n",
        "\n",
        "T26=d6/U[5][5]\n",
        "T25=(d5-T26*U[4][5])/U[4][4]\n",
        "T24=(d4-T25*U[3][4])/U[3][3]\n",
        "T23=(d3-T24*U[2][3])/U[2][2]\n",
        "T22=(d2-T23*U[1][2])/U[1][1]\n",
        "T21=(d1-T22*U[0][1])/U[0][0]"
      ]
    },
    {
      "cell_type": "code",
      "source": [
        "#Calculando las funciones\n",
        "z1=z[1]\n",
        "T0=T[0]\n",
        "T1=T[1]\n",
        "\n",
        "a=T21/(6*(z1-x0))\n",
        "c1=T0/(z1-x0)\n",
        "c2=T1/(z1-x0)-T21*(z1-x0)/6\n",
        "\n",
        "def g1(x):\n",
        "  return a*(x-x0)**3+c1*(z1-x)+c2*(x-x0)\n",
        "\n",
        "z2=z[2]\n",
        "T2=T[2]\n",
        "a1=T21/(6*(z2-z1))\n",
        "a2=T22/(6*(z2-z1))\n",
        "c12=T1/(z2-z1)-T21*(z2-z1)/6\n",
        "c22=T2/(z2-z1)-T22*(z2-z1)/6\n",
        "\n",
        "def g2(x):\n",
        "  return a1*(z2-x)**3+a2*(x-z1)**3+c12*(z2-x)+c22*(x-z1)\n",
        "\n",
        "z3=z[3]\n",
        "T3=T[3]\n",
        "a13=T22/(6*(z3-z2))\n",
        "a23=T23/(6*(z3-z2))\n",
        "c13=T2/(z3-z2)-T22*(z3-z2)/6\n",
        "c23=T3/(z3-z2)-T23*(z3-z2)/6\n",
        "\n",
        "def g3(x):\n",
        "  return a13*(z3-x)**3+a23*(x-z2)**3+c13*(z3-x)+c23*(x-z2)\n",
        "\n",
        "z4=z[4]\n",
        "T4=T[4]\n",
        "a14=T24/(6*(z4-z3))\n",
        "a24=T24/(6*(z4-z3))\n",
        "c14=T3/(z4-z3)-T23*(z4-z3)/6\n",
        "c24=T4/(z4-z3)-T24*(z4-z3)/6\n",
        "\n",
        "def g4(x):\n",
        "  return a14*(z4-x)**3+a24*(x-z3)**3+c14*(z4-x)+c24*(x-z3)\n",
        "\n",
        "z5=z[5]\n",
        "T5=T[5]\n",
        "a15=T24/(6*(z5-z4))\n",
        "a25=T25/(6*(z5-z4))\n",
        "c15=T4/(z5-z4)-T24*(z5-z4)/6\n",
        "c25=T5/(z5-z4)-T25*(z5-z4)/6\n",
        "\n",
        "def g5(x):\n",
        "  return a15*(z5-x)**3+a25*(x-z4)**3+c15*(z5-x)+c25*(x-z4)\n",
        "\n",
        "z6=z[6]\n",
        "T6=T[6]\n",
        "a16=T25/(6*(z6-z5))\n",
        "a26=T26/(6*(z6-z5))\n",
        "c16=T5/(z6-z5)-T25*(z6-z5)/6\n",
        "c26=T6/(z6-z5)-T26*(z6-z5)/6\n",
        "def g6(x):\n",
        "  return a16*(z6-x)**3+a26*(x-z5)**3+c16*(z6-x)+c26*(x-z5)\n",
        "\n",
        "z7=z[7]\n",
        "T7=T[7]\n",
        "a17=T26/(6*(z7-z6))\n",
        "c17=T6/(z7-z6)-T26*(z7-z6)/6\n",
        "c27=T7/(z7-z6)\n",
        "\n",
        "def g7(x):\n",
        "  return a17*(z7-x)**3+c17*(z7-x)+c27*(x-z6)"
      ],
      "metadata": {
        "id": "5WVE2pzFVHGb"
      },
      "execution_count": 3,
      "outputs": []
    },
    {
      "cell_type": "code",
      "source": [
        "#Graficas\n",
        "import matplotlib\n",
        "import matplotlib.pyplot as plt\n",
        "import numpy as np\n",
        "Tinterpolada=[22.8,22.7907,22.7944,22.8203,22.8374,22.7909,22.6229,22.2665,\n",
        "             21.6531,20.7144,19.4118,17.8691,16.2646,14.7766,13.5825,12.7652,\n",
        "             12.2483,11.94,11.7484,11.5876,11.4316,11.2905,11.1745,11.0938,\n",
        "             11.0543,11.048,11.0646,11.0936]\n",
        "\n",
        "x1=np.arange(0,2,0.01)\n",
        "y1=g1(x1)\n",
        "x2=np.arange(2.01,4.98,0.01)\n",
        "y2=g2(x2)\n",
        "x3=np.arange(4.99,10,0.01)\n",
        "y3=g3(x3)\n",
        "x4=np.arange(11,14,0.01)\n",
        "y4=g4(x4)\n",
        "x5=np.arange(14.01,18,0.01)\n",
        "y5=g5(x5)\n",
        "x6=np.arange(18.01,22,0.01)\n",
        "y6=g6(x6)\n",
        "x7=np.arange(22.01,27,0.01)\n",
        "y7=g7(x7)\n",
        "\n",
        "plt.plot(x1,y1,color='blue') #primera función\n",
        "plt.plot(x2,y2,color='green') #segunda función\n",
        "plt.plot(x3,y3,color='yellow') #tercera función\n",
        "plt.plot(x4,y4,color='orange') #cuarta función\n",
        "plt.plot(x5,y5,color='purple') #quinta función\n",
        "plt.plot(x6,y6,color='red') #sexta función\n",
        "plt.plot(x7,y7,color='gray') #séptima función\n",
        "\n",
        "for i in range(0,28):\n",
        "  plt.plot(i,Tinterpolada[i],'.',color='green') #datos interpolados del libro\n",
        "for i in range(0,8):\n",
        "  plt.plot(z[i],T[i],'+',color='black') #datos de las mediciones\n",
        "plt.xlabel('z(m)')\n",
        "plt.ylabel('T(°C)')\n",
        "plt.title('z vs T')\n",
        "# debido a que las medidas originales son pocas, las dos curvas de interpolacion\n",
        "#se ajustan, sin embargo, la interpolacion reportada en el libro es mas consistente\n",
        "#que la calculada"
      ],
      "metadata": {
        "colab": {
          "base_uri": "https://localhost:8080/",
          "height": 489
        },
        "id": "GYbF6BBUVnRE",
        "outputId": "39aa4e44-185d-4db1-d512-79cb5910845e"
      },
      "execution_count": 8,
      "outputs": [
        {
          "output_type": "execute_result",
          "data": {
            "text/plain": [
              "Text(0.5, 1.0, 'z vs T')"
            ]
          },
          "metadata": {},
          "execution_count": 8
        },
        {
          "output_type": "display_data",
          "data": {
            "text/plain": [
              "<Figure size 640x480 with 1 Axes>"
            ],
            "image/png": "[encoded data removed]"
          },
          "metadata": {}
        }
      ]
    },
    {
      "cell_type": "markdown",
      "source": [
        "#Usando librería"
      ],
      "metadata": {
        "id": "IcsizFDf21rB"
      }
    },
    {
      "cell_type": "code",
      "source": [
        "from scipy.interpolate import CubicSpline\n",
        "T=[22.8,22.8,22.8,20.6,13.9,11.7,11.1,11.1] #Temperatura en °C\n",
        "z=[0,2.3,4.9,9.1,13.7,18.3,22.9,27.2] #profundidad en m\n",
        "cs=CubicSpline(z,T)\n",
        "\n",
        "z1=np.arange(0,28,0.01)\n",
        "T1=cs(z1)\n",
        "plt.plot(z1,T1)\n",
        "for i in range(0,8):\n",
        "  plt.plot(z[i],T[i],'+',color='black')\n",
        "for i in range(0,28):\n",
        "  plt.plot(i,Tinterpolada[i],'.',color='green')\n",
        "plt.xlabel('z(m)')\n",
        "plt.ylabel('T(°C)')\n",
        "plt.show()"
      ],
      "metadata": {
        "colab": {
          "base_uri": "https://localhost:8080/",
          "height": 449
        },
        "id": "nOcIS00o2PVp",
        "outputId": "7e495fc2-2db9-46b4-dedd-057f41c45549"
      },
      "execution_count": 14,
      "outputs": [
        {
          "output_type": "display_data",
          "data": {
            "text/plain": [
              "<Figure size 640x480 with 1 Axes>"
            ],
            "image/png": "[encoded data removed]"
          },
          "metadata": {}
        }
      ]
    }
  ]
}
