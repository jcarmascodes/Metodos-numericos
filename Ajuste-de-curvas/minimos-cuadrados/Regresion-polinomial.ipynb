{
  "nbformat": 4,
  "nbformat_minor": 0,
  "metadata": {
    "colab": {
      "provenance": []
    },
    "kernelspec": {
      "name": "python3",
      "display_name": "Python 3"
    },
    "language_info": {
      "name": "python"
    }
  },
  "cells": [
    {
      "cell_type": "markdown",
      "source": [
        "#Regresión polinomial\n",
        "Exsiten ocasiones en las que los datos no se acoplan al modelo lineal. Entonces, el modelo de mínimos cuadrados se puede extender al ajuste de datos con un polinomio de grado superior."
      ],
      "metadata": {
        "id": "ZNaSUyzXtyTJ"
      }
    },
    {
      "cell_type": "markdown",
      "source": [
        "#Regresión polinomial de 2° grado\n",
        "Suponga que se ajusta a un polinomio de 2° grado o cuadrático:\n",
        "\\begin{equation}\n",
        "y=a_0+a_1x+a_2x^2+e\n",
        "\\end{equation}\n",
        "en este caso la suma de los cuadrados de los residuos es\n",
        "\\begin{equation}\n",
        "S_r=\\sum_{i=1}^{n}(y_i-a_0-a_1-a_2x_i^2)^2\n",
        "\\end{equation}\n",
        "Al seguir el procedimiento de la regresión lineal, se obtiene la derivada parcial con respecto a uno de los coeficientes desconicidos del polinomio\n",
        "\\begin{eqnarray}\n",
        "\\frac{\\partial S_r}{\\partial a_0}=-2\\sum_{i=1}^{n}(y_i-a_0-a_1-a_2x_i^2)\n",
        "\\\\\\frac{\\partial S_r}{\\partial a_1}=-2\\sum_{i=1}^{n}x_i(y_i-a_0-a_1-a_2x_i^2)\n",
        "\\\\\\frac{\\partial S_r}{\\partial a_2}=-2\\sum_{i=1}^{n}x_i^2(y_i-a_0-a_1-a_2x_i^2)\n",
        "\\nonumber\n",
        "\\end{eqnarray}\n",
        "estas ecuaciones se igualan a cero y se reordenan para desarrollar el siguiente conjunto de ecuaciones\n",
        "\\begin{eqnarray}\n",
        "(n)a_0+(\\sum x_i)a_1+(\\sum x_i^2)a_2=\\sum y_i\n",
        "\\\\(\\sum x_i)a_0+(\\sum x_i^2)a_1+(\\sum x_i^3)a_2=\\sum x_iy_i\n",
        "\\\\(\\sum x_i^2)a_0+(\\sum x_i^3)a_1+(\\sum x_i^4)a_2=\\sum x_i^2y_i\n",
        "\\end{eqnarray}\n",
        "este sistema de ecuaciones se resuelve para encontrar las constantes $a_0$, $a_1$ y $a_2$."
      ],
      "metadata": {
        "id": "P2CW5JgMuqJ3"
      }
    },
    {
      "cell_type": "markdown",
      "source": [
        "#Ejemplo:"
      ],
      "metadata": {
        "id": "fGCWxfY23Flm"
      }
    },
    {
      "cell_type": "code",
      "execution_count": 2,
      "metadata": {
        "id": "K6oNBgSQ3g3I"
      },
      "outputs": [],
      "source": [
        "#Código hecho por: Diana Ailed Hernández Bustos\n",
        "import numpy as np\n",
        "from math import*\n",
        "import matplotlib.pyplot as plt\n",
        "# Datos:\n",
        "x = np.array([0, 4, 8, 12, 16, 20])\n",
        "y = np.array([67e6, 84e6, 98e6, 125e6, 149e6, 185e6])\n",
        "n = len(x)\n",
        "o = 2 # Orden del polinomio"
      ]
    },
    {
      "cell_type": "code",
      "source": [
        "#Definiendo las funciones:\n",
        "def piv(a, i):\n",
        "    for s in range (0, m):\n",
        "        if a[i+s, i] !=0:\n",
        "            d = i+s\n",
        "            break\n",
        "            #print(d)\n",
        "    return d\n",
        "\n",
        "def gauss(a, m):\n",
        "    for i in range (0, m-1):\n",
        "        for k in range (i+1, m):\n",
        "            #Condición del pivoteo:\n",
        "            if a[i, i] == 0:\n",
        "                d = piv(a, i)\n",
        "                for p in range (0, m+1):\n",
        "                    prueba[p] = a[i,p]\n",
        "                    a[i, p] = a[d, p]\n",
        "                    a[d, p]= prueba[p]\n",
        "\n",
        "            #Después de haber hecho el pivoteo (en caso de que se requiera) se continúa con Gauss:\n",
        "            factor = a[k, i]/ a[i, i]\n",
        "            a[k,:]= a[k,:]-a[i,:]*factor\n",
        "\n",
        "    #Para escribir los resultados:\n",
        "    x = np.zeros([m])\n",
        "    for i in range (m-1, -1, -1):\n",
        "        if i == (m-1):\n",
        "            x[i] = a[i, m] / a[i, i]\n",
        "\n",
        "        else:\n",
        "            sumatoria=0\n",
        "            for r in range(0, m):\n",
        "                sumatoria = sumatoria + (a[i,r] * x[r])\n",
        "            x[i]=(a[i, m]-sumatoria)/a[i,i]\n",
        "    return(x)"
      ],
      "metadata": {
        "id": "Al3CTdRQ3PCt"
      },
      "execution_count": 3,
      "outputs": []
    },
    {
      "cell_type": "code",
      "source": [
        "sum_x= sum(x)\n",
        "sum_y = sum(y)\n",
        "x2 = np.zeros(n)\n",
        "x3 = np.zeros(n)\n",
        "x4 = np.zeros(n)\n",
        "xy = np.zeros(n)\n",
        "x2y = np.zeros(n)\n",
        "\n",
        "for i in range(n):\n",
        "    x2[i] = x[i]**2\n",
        "    x3[i] = x[i]**3\n",
        "    x4[i] = x[i]**4\n",
        "    xy[i] = x[i]*y[i]\n",
        "    x2y[i] = (x[i]*x[i])*y[i]\n",
        "\n",
        "x_prom = sum_x/n\n",
        "y_prom = sum_y/n\n",
        "sum_x2 = sum(x2)\n",
        "sum_x3 = sum(x3)\n",
        "sum_x4 = sum(x4)\n",
        "sum_xy = sum(xy)\n",
        "sum_x2y = sum(x2y)\n",
        "\n",
        "print(\"\\nDATOS: \")\n",
        "print('{:^15}{:^15}{:^15}{:^15}'.format('x prom', 'y prom','Suma x', 'Suma y'))\n",
        "print('{:^15,.3f}{:^15,.3f}{:^15,.3f}{:^15,.3f}'.format(x_prom, y_prom, sum_x, sum_y))\n",
        "print()\n",
        "print('{:^15}{:^15}{:^22}{:^22}{:^22}'.format('Suma(x^2)', 'Suma(x^3)', 'Suma(x^4)', 'Suma(xy)', 'Suma(x^2y)'))\n",
        "print('{:^15,.3f}{:^15,.3f}{:^22,.3f}{:^22,.1f}{:^22,.1f}'.format(sum_x2, sum_x3, sum_x4, sum_xy, sum_x2y))\n",
        "\n",
        "#Cálculo para encontrar coeficientes a0 y a1:\n",
        "a_1 = np.array([[n, sum_x, sum_x2],\n",
        "              [sum_x, sum_x2, sum_x3],\n",
        "              [sum_x2, sum_x3, sum_x4]])\n",
        "\n",
        "b = np.array([[sum_y],[sum_xy], [sum_x2y]])\n",
        "\n",
        "m = len(a_1)\n",
        "a = np.concatenate((a_1,b),axis=1)\n",
        "ar = gauss(a, m)\n",
        "print(\"\\nUTILIZANDO ELIMINACIÓN DE GAUSS: \")\n",
        "print(\"La solución para a0, a1 y a2 es:\")\n",
        "print(ar)\n",
        "\n",
        "#Cálculos para regresión:\n",
        "print(\"\\nREGRESIÓN POLINOMIAL:\")\n",
        "ycal = np.zeros(n)\n",
        "y_ycal2 = np.zeros(n)\n",
        "y_yprom = np.zeros(n)\n",
        "\n",
        "print('{:^20}{:^10}{:^15}{:^20}{:^10}'.format('x', 'y', 'y cal', '(y-ycal)^2', '(y-yprom)^2'))\n",
        "for i in range(n):\n",
        "    ycal[i] = ar[0] + ar[1]*x[i] + ar[2]*x[i]*x[i]\n",
        "    y_ycal2[i] = (y[i] - ycal[i])**2\n",
        "    y_yprom[i] = (y[i]-y_prom)**2\n",
        "    print('{:^20}{:^10}{:^15.6}{:^20.6}{:^10.6}'.format(x[i], y[i], ycal[i], y_ycal2[i], y_yprom[i]))\n",
        "sum_ycal = sum(ycal)\n",
        "sum_yycal2 = sum(y_ycal2)\n",
        "sum_yyprom = sum(y_yprom)\n",
        "\n",
        "print(\"Suma\")\n",
        "print('{:^20}{:^10}{:^15.6}{:^20.6}{:^10.6}'.format(sum_x, sum_y, sum_ycal ,sum_yycal2, sum_yyprom))\n",
        "\n",
        "print(\"\\nOtros datos: \")\n",
        "Sr = sum_yycal2\n",
        "St = sum_yyprom\n",
        "Sxy = sqrt( Sr/(n - (o+1)) )\n",
        "r2 = (St-Sr)/St\n",
        "r = sqrt(r2) #Coeficiente de correlación\n",
        "print(\"Sr = {:.4f} \".format(Sr))\n",
        "print(\"St = {:.4f} \".format(St))\n",
        "print(\"r^2 = {:.4f} \".format(r2))\n",
        "print(\"Coeficiente de correlación r = {:.4f} \".format(r))\n",
        "print(\"S x/y {:.4f}: \".format(Sxy))\n",
        "\n",
        "ye= ycal\n",
        "#Gráfica:\n",
        "plt.title('Regresión polinomial 2° orden')\n",
        "plt.xlabel('x')\n",
        "plt.ylabel('y')\n",
        "plt.scatter(x, y, color='red', label = 'Datos')\n",
        "plt.plot(x, ycal, '-', color='blue', label = 'Regresión')\n",
        "plt.legend()\n",
        "plt.show()"
      ],
      "metadata": {
        "colab": {
          "base_uri": "https://localhost:8080/",
          "height": 975
        },
        "id": "mcdn0op035F_",
        "outputId": "8a3b6b8a-e4f7-4fb0-e548-4c85eac3f56f"
      },
      "execution_count": 4,
      "outputs": [
        {
          "output_type": "stream",
          "name": "stdout",
          "text": [
            "\n",
            "DATOS: \n",
            "    x prom         y prom         Suma x         Suma y     \n",
            "    10.000     118,000,000.000    60.000     708,000,000.000\n",
            "\n",
            "   Suma(x^2)      Suma(x^3)         Suma(x^4)              Suma(xy)             Suma(x^2y)      \n",
            "    880.000      14,400.000        250,624.000         8,704,000,000.0      137,760,000,000.0   \n",
            "\n",
            "UTILIZANDO ELIMINACIÓN DE GAUSS: \n",
            "La solución para a0, a1 y a2 es:\n",
            "[68035714.28571428  2786607.14285715   150669.64285714]\n",
            "\n",
            "REGRESIÓN POLINOMIAL:\n",
            "         x              y          y cal          (y-ycal)^2     (y-yprom)^2\n",
            "         0          67000000.0  6.80357e+07       1.0727e+12     2.601e+15 \n",
            "         4          84000000.0  8.15929e+07      5.79434e+12     1.156e+15 \n",
            "         8          98000000.0  9.99714e+07      3.88653e+12       4e+14   \n",
            "         12         125000000.0  1.23171e+08      3.34367e+12      4.9e+13  \n",
            "         16         149000000.0  1.51193e+08      4.80862e+12      9.61e+14 \n",
            "         20         185000000.0  1.84036e+08      9.29847e+11     4.489e+15 \n",
            "Suma\n",
            "         60         708000000.0   7.08e+08        1.98357e+13     9.656e+15 \n",
            "\n",
            "Otros datos: \n",
            "Sr = 19835714285714.3281 \n",
            "St = 9656000000000000.0000 \n",
            "r^2 = 0.9979 \n",
            "Coeficiente de correlación r = 0.9990 \n",
            "S x/y 2571362.4330: \n"
          ]
        },
        {
          "output_type": "display_data",
          "data": {
            "text/plain": [
              "<Figure size 640x480 with 1 Axes>"
            ],
            "image/png": "[encoded data removed]"
          },
          "metadata": {}
        }
      ]
    },
    {
      "cell_type": "markdown",
      "source": [
        "#Regresión polinomial 3° orden\n",
        "El caso del polinomio anterior se extiende con facilidad a un polinomio de $m$-ésimo grado como sigue\n",
        "\\begin{equation}\n",
        "y=a_0+a_1x+a_2x^2+...+a_mx^m+e\n",
        "\\end{equation}\n",
        "para conocer los coeficientes del polinomio de grado superior equivale a resolver un sistema de ecuaciones de $m+1$ incógnitas."
      ],
      "metadata": {
        "id": "WEG63r2E4CSA"
      }
    },
    {
      "cell_type": "code",
      "source": [
        "# Datos:\n",
        "x = np.array([0, 4, 8, 12, 16, 20])\n",
        "y = np.array([67e6, 84e6, 98e6, 125e6, 149e6, 185e6])\n",
        "n = len(x)\n",
        "o = 3 # Orden del polinomio"
      ],
      "metadata": {
        "id": "r2oUgcBA5FEk"
      },
      "execution_count": 5,
      "outputs": []
    },
    {
      "cell_type": "code",
      "source": [
        "sum_x= sum(x)\n",
        "sum_y = sum(y)\n",
        "x2 = np.zeros(n)\n",
        "x3 = np.zeros(n)\n",
        "x4 = np.zeros(n)\n",
        "x5 = np.zeros(n)\n",
        "x6 = np.zeros(n)\n",
        "xy = np.zeros(n)\n",
        "x2y = np.zeros(n)\n",
        "x3y = np.zeros(n)\n",
        "\n",
        "for i in range(n):\n",
        "    x2[i] = x[i]**2\n",
        "    x3[i] = x[i]**3\n",
        "    x4[i] = x[i]**4\n",
        "    x5[i] = x[i]**5\n",
        "    x6[i] = x[i]**6\n",
        "    xy[i] = x[i]*y[i]\n",
        "    x2y[i] = (x[i]*x[i])*y[i]\n",
        "    x3y[i] = (x[i]*x[i]*x[i])*y[i]\n",
        "\n",
        "x_prom = sum_x/n\n",
        "y_prom = sum_y/n\n",
        "sum_x2 = sum(x2)\n",
        "sum_x3 = sum(x3)\n",
        "sum_x4 = sum(x4)\n",
        "sum_x5 = sum(x5)\n",
        "sum_x6 = sum(x6)\n",
        "sum_xy = sum(xy)\n",
        "sum_x2y = sum(x2y)\n",
        "sum_x3y = sum(x3y)\n",
        "\n",
        "print(\"\\nDATOS: \")\n",
        "print('{:^15}{:^15}{:^15}{:^15}{:^15}{:^15}'.format('x prom', 'y prom','Suma x', 'Suma y', 'Suma(x^2)', 'Suma(x^3)'))\n",
        "print('{:^15,.3f}{:^15,.3f}{:^15,.3f}{:^15,.3f}{:^15,.3f}{:^15,.3f}'.format(x_prom, y_prom, sum_x, sum_y, sum_x2, sum_x3))\n",
        "print()\n",
        "print('{:^20}{:^20}{:^20}{:^20}{:^20}{:^20}'.format( 'Suma(x^4)',  'Suma(x^5)',  'Suma(x^6)', 'Suma(xy)', 'Suma(x^2y)', 'Suma(x^3y)'))\n",
        "print('{:^20.3f}{:^20.3f}{:^20.3f}{:^20.3f}{:^20.3f}{:^20.3f}'.format( sum_x4, sum_x5,  sum_x6, sum_xy, sum_x2y, sum_x3y))\n",
        "\n",
        "\n",
        "#Cálculo para encontrar coeficientes a0 y a1:\n",
        "a_1 = np.array([[n, sum_x, sum_x2, sum_x3],\n",
        "              [sum_x, sum_x2, sum_x3, sum_x4],\n",
        "              [sum_x2, sum_x3, sum_x4, sum_x5],\n",
        "                [sum_x3, sum_x4, sum_x5, sum_x6]])\n",
        "\n",
        "b = np.array([[sum_y],[sum_xy], [sum_x2y], [sum_x3y]])\n",
        "\n",
        "m = len(a_1)\n",
        "a = np.concatenate((a_1,b),axis=1)\n",
        "ar = gauss(a, m)\n",
        "print(\"\\nUTILIZANDO ELIMINACIÓN DE GAUSS: \")\n",
        "print(\"La solución para a0, a1, a2 y a3 es:\")\n",
        "print(ar)\n",
        "\n",
        "#Cálculos para regresión:\n",
        "print(\"\\nREGRESIÓN POLINOMIAL:\")\n",
        "ycal = np.zeros(n)\n",
        "y_ycal2 = np.zeros(n)\n",
        "y_yprom = np.zeros(n)\n",
        "\n",
        "print('{:^20}{:^10}{:^15}{:^20}{:^10}'.format('x', 'y', 'y cal', '(y-ycal)^2', '(y-yprom)^2'))\n",
        "for i in range(n):\n",
        "    ycal[i] = ar[0] + ar[1]*x[i] + ar[2]*x[i]*x[i] +ar[3]*x[i]*x[i]*x[i]\n",
        "    y_ycal2[i] = (y[i] - ycal[i])**2\n",
        "    y_yprom[i] = (y[i]-y_prom)**2\n",
        "    print('{:^20}{:^10}{:^15.6}{:^20.6}{:^10.6}'.format(x[i], y[i], ycal[i], y_ycal2[i], y_yprom[i]))\n",
        "sum_ycal = sum(ycal)\n",
        "sum_yycal2 = sum(y_ycal2)\n",
        "sum_yyprom = sum(y_yprom)\n",
        "\n",
        "print(\"Suma\")\n",
        "print('{:^20}{:^10}{:^15.6}{:^20.6}{:^10.6}'.format(sum_x, sum_y, sum_ycal ,sum_yycal2, sum_yyprom))\n",
        "\n",
        "print(\"\\nOtros datos: \")\n",
        "Sr = sum_yycal2\n",
        "St = sum_yyprom\n",
        "Sxy = sqrt( Sr/(n - (o+1)) )\n",
        "r2 = (St-Sr)/St\n",
        "r = sqrt(r2) #Coeficiente de correlación\n",
        "print(\"Sr = {:.4f} \".format(Sr))\n",
        "print(\"St = {:.4f} \".format(St))\n",
        "print(\"r^2 = {:.4f} \".format(r2))\n",
        "print(\"Coeficiente de correlación r = {:.4f} \".format(r))\n",
        "print(\"S x/y {:.4f}: \".format(Sxy))\n",
        "\n",
        "yf= ycal\n",
        "#Gráfica:\n",
        "plt.title('Regresión polinomial 3° orden')\n",
        "plt.xlabel('x')\n",
        "plt.ylabel('y')\n",
        "plt.scatter(x, y, color='red', label = 'Datos')\n",
        "plt.plot(x, ycal, '-', color='blue', label = 'Regresión')\n",
        "plt.legend()\n",
        "plt.show()"
      ],
      "metadata": {
        "colab": {
          "base_uri": "https://localhost:8080/",
          "height": 975
        },
        "id": "roHmx5eN5Pmi",
        "outputId": "68257ffc-689b-4c8d-fa98-73834752c0c5"
      },
      "execution_count": 6,
      "outputs": [
        {
          "output_type": "stream",
          "name": "stdout",
          "text": [
            "\n",
            "DATOS: \n",
            "    x prom         y prom         Suma x         Suma y        Suma(x^2)      Suma(x^3)   \n",
            "    10.000     118,000,000.000    60.000     708,000,000.000    880.000      14,400.000   \n",
            "\n",
            "     Suma(x^4)           Suma(x^5)           Suma(x^6)            Suma(xy)           Suma(x^2y)          Suma(x^3y)     \n",
            "     250624.000         4531200.000         84029440.000       8704000000.000     137760000000.000   2361856000000.000  \n",
            "\n",
            "UTILIZANDO ELIMINACIÓN DE GAUSS: \n",
            "La solución para a0, a1, a2 y a3 es:\n",
            "[6.72857143e+07 3.64285714e+06 3.34821429e+04 3.90625000e+03]\n",
            "\n",
            "REGRESIÓN POLINOMIAL:\n",
            "         x              y          y cal          (y-ycal)^2     (y-yprom)^2\n",
            "         0          67000000.0  6.72857e+07      8.16327e+10     2.601e+15 \n",
            "         4          84000000.0  8.26429e+07      1.84184e+12     1.156e+15 \n",
            "         8          98000000.0  1.00571e+08      6.61224e+12       4e+14   \n",
            "         12         125000000.0  1.22571e+08      5.89796e+12      4.9e+13  \n",
            "         16         149000000.0  1.50143e+08      1.30612e+12      9.61e+14 \n",
            "         20         185000000.0  1.84786e+08      4.59184e+10     4.489e+15 \n",
            "Suma\n",
            "         60         708000000.0   7.08e+08        1.57857e+13     9.656e+15 \n",
            "\n",
            "Otros datos: \n",
            "Sr = 15785714285714.2012 \n",
            "St = 9656000000000000.0000 \n",
            "r^2 = 0.9984 \n",
            "Coeficiente de correlación r = 0.9992 \n",
            "S x/y 2809422.9199: \n"
          ]
        },
        {
          "output_type": "display_data",
          "data": {
            "text/plain": [
              "<Figure size 640x480 with 1 Axes>"
            ],
            "image/png": "[encoded data removed]"
          },
          "metadata": {}
        }
      ]
    }
  ]
}
