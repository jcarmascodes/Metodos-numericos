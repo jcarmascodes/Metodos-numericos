{
  "nbformat": 4,
  "nbformat_minor": 0,
  "metadata": {
    "colab": {
      "provenance": []
    },
    "kernelspec": {
      "name": "python3",
      "display_name": "Python 3"
    },
    "language_info": {
      "name": "python"
    }
  },
  "cells": [
    {
      "cell_type": "markdown",
      "source": [
        "#Eliminación de Gauss simple\n",
        "La *eliminación de Gauss* es un algoritmo que resuelve un sistema de ecuaciones $n\\times n$ eliminando incógnitas y sustituyendo hacia atrás. Se le llama *simple* al caso en el que el algoritmo no puede evitar la división por cero.\n",
        "\n",
        "Dado el sistema de ecuaciones\n",
        "\\begin{eqnarray}\n",
        "a_{11}x_1+a_{12}x_2+...+a_{1n}x_n=b_1\\\\a_{21}x_1+a_{22}x_2+...+a_{2n}x_n=b_2\\\\a_{31}x_1+a_{32}x_2+...+a_{3n}x_n=b_3\\\\.\\\\.\\\\.\\\\a_{n1}x_1+a_{n2}x_2+...+a_{nn}x_n=b_n\n",
        "\\end{eqnarray}\n",
        "la resolución se procede en dos fases:\n",
        "\n",
        "**Resolución hacia adelante de incógnitas**. La primera fase consiste en reducir el conjunto de ecuaciones a un sistema triangular superior. El paso inicial es eliminar $x_1$, desde la segunda hasta la $n$-ésima ecuación. Se multiplica la primera ecuación por $a_{21}/a_{11}$ para obtener\n",
        "\\begin{equation}\n",
        "a_{21}x_1+\\frac{a_{21}}{a_{11}}a_{12}x_2+...+\\frac{a_{21}}{a_{11}}a_{1n}x_n=\\frac{a_{21}}{a_{11}}b_1\n",
        "\\end{equation}\n",
        "esta ecuación se le resta a la segunda ecuación para dar\n",
        "\\begin{equation}\n",
        "\\Bigl(a_{22}-\\frac{a_{21}}{a_{11}}\\Bigl)x_2+...+\\Bigl(a_{2n}-\\frac{a_{21}}{a_{11}}\\Bigl)x_n=b_2-\\frac{a_{21}}{a_{11}}b_1\n",
        "\\end{equation}\n",
        "o bien\n",
        "\\begin{equation}\n",
        "a_{22}'x_2+...+a_{2n}'x_n=b_2'\n",
        "\\end{equation}\n",
        "El procedimiento se repite después con las ecuaciones restantes. El sistema queda entonces como\n",
        "\\begin{eqnarray}\n",
        "a_{11}x_1+a_{12}x_2+...+a_{1n}x_n=b_1\\\\+a_{22}'x_2+...+a_{2n}'x_n=b_2'\\\\.\\\\.\\\\.\\\\a_{nn}^{(n-1)}x_n=b_n^{(n-1)}\n",
        "\\end{eqnarray}\n",
        "**Sustitución hacia atrás**. De la última ecuación del sistema primado se despeja $x_n$\n",
        "\\begin{equation}\n",
        "x_n=\\frac{b_n^{(n-1)}}{a_{nn}^{(n-1)}}\n",
        "\\end{equation}\n",
        "Este resultado se sustituye en la $(n-1)$-ésima ecuación y despejar $x_{n-1}$. El procedimiento se repite hasta encontrar las $x$'s restantes."
      ],
      "metadata": {
        "id": "DD3uSCsb6Ejm"
      }
    },
    {
      "cell_type": "code",
      "execution_count": 1,
      "metadata": {
        "id": "pbwpyVsV0e83"
      },
      "outputs": [],
      "source": [
        "#Código hecho por: Diana Ailed Hernández Bustos\n",
        "import numpy as np\n",
        "#Pongo mi matriz\n",
        "a = np.array([[2,3,1,2, 1],[2,4,-1,5,2],[3,7,1.5,1, 3],[6,-9,3,7, 4]])\n",
        "aa= np.copy(a)\n",
        "m = len(a)\n",
        "n = m+1\n",
        "#print(aa)\n",
        "#print(m)"
      ]
    },
    {
      "cell_type": "code",
      "source": [
        "print(\"La matriz inicial es:\")\n",
        "print(aa)\n",
        "\n",
        "for i in range (m-1):\n",
        "    for k in range (i+1, m):\n",
        "        factor = a[k, i]/ a[i, i]\n",
        "        a[k,:]= a[k,:]-a[i,:]*factor\n",
        "\n",
        "    print(\"\\nReconstruyendo queda la sig. matriz\")\n",
        "    print(a)\n",
        "\n",
        "#Ahora se resuelven los valores de x:\n",
        "x4 = a[3,4]/a[3,3]\n",
        "x3 = (a[2,4]-a[2,3]*x4)/a[2,2]\n",
        "x2 = (a[1,4]-a[1,3]*x4-a[1,2]*x3)/a[1,1]\n",
        "x1 = (a[0,4]-a[0,3]*x4-a[0,2]*x3-a[0,1]*x2)/a[0,0]\n",
        "\n",
        "print(\"\\nLos resultados son:\")\n",
        "print(\"X1=\",x1)\n",
        "print(\"X2=\",x2)\n",
        "print(\"X3=\",x3)\n",
        "print(\"X4=\",x4)"
      ],
      "metadata": {
        "colab": {
          "base_uri": "https://localhost:8080/"
        },
        "id": "kPePu5EBQF5O",
        "outputId": "791e89c4-40a5-48b1-d6a1-75faf1d4eb55"
      },
      "execution_count": 2,
      "outputs": [
        {
          "output_type": "stream",
          "name": "stdout",
          "text": [
            "La matriz inicial es:\n",
            "[[ 2.   3.   1.   2.   1. ]\n",
            " [ 2.   4.  -1.   5.   2. ]\n",
            " [ 3.   7.   1.5  1.   3. ]\n",
            " [ 6.  -9.   3.   7.   4. ]]\n",
            "\n",
            "Reconstruyendo queda la sig. matriz\n",
            "[[  2.    3.    1.    2.    1. ]\n",
            " [  0.    1.   -2.    3.    1. ]\n",
            " [  0.    2.5   0.   -2.    1.5]\n",
            " [  0.  -18.    0.    1.    1. ]]\n",
            "\n",
            "Reconstruyendo queda la sig. matriz\n",
            "[[  2.    3.    1.    2.    1. ]\n",
            " [  0.    1.   -2.    3.    1. ]\n",
            " [  0.    0.    5.   -9.5  -1. ]\n",
            " [  0.    0.  -36.   55.   19. ]]\n",
            "\n",
            "Reconstruyendo queda la sig. matriz\n",
            "[[  2.    3.    1.    2.    1. ]\n",
            " [  0.    1.   -2.    3.    1. ]\n",
            " [  0.    0.    5.   -9.5  -1. ]\n",
            " [  0.    0.    0.  -13.4  11.8]]\n",
            "\n",
            "Los resultados son:\n",
            "X1= 2.473880597014925\n",
            "X2= -0.10447761194029859\n",
            "X3= -1.8731343283582085\n",
            "X4= -0.8805970149253728\n"
          ]
        }
      ]
    }
  ]
}
