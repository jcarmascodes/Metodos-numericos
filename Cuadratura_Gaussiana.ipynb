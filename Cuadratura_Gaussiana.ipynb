{
  "nbformat": 4,
  "nbformat_minor": 0,
  "metadata": {
    "colab": {
      "provenance": []
    },
    "kernelspec": {
      "name": "python3",
      "display_name": "Python 3"
    },
    "language_info": {
      "name": "python"
    }
  },
  "cells": [
    {
      "cell_type": "markdown",
      "source": [
        "#Cuadratura de Gauss\n",
        "Suponga que, a diferencia de las fórmulas de Newton-Cotes, en lugar de tener los puntos extremos fijos en la evaluación de la integral, se tuviera la libertad de evaluar el área bajo una línea recta que uniera dos puntos cualquiera de la curva. Al ubicar estos puntos de forma inteligente, definiríamos una línea recta que equilibraría los errores positivo y negativo. Así se llegaría a una mejor estimación de la integral.\n",
        "\n",
        "La *Cuadratura de Gauss* es una de estas técnicas. Las fórmulas obtenidas por esta técnica se llaman fórmulas de *Gauss-Legendre*.\n",
        "\n",
        "La fórmula de Gauss-Legendre de dos puntos esta dada por\n",
        "\\begin{equation}\n",
        "I\\cong f(-\\frac{1}{\\sqrt3})+f(\\frac{1}{\\sqrt3})\n",
        "\\end{equation}\n",
        "La fórmula de Gauss-Legendre se puede generalizar a más puntos a partir de la ecuación\n",
        "\\begin{equation}\n",
        "I\\cong c_0f(x_0)+c_1f(x_1)+...+c_{n-1}f(x_{n-1})\n",
        "\\end{equation}\n",
        "por el método de coeficientes indeterminados se buscan los valores de los coeficientes y los valores de las $x$'s."
      ],
      "metadata": {
        "id": "YJ9QsULaqhVL"
      }
    },
    {
      "cell_type": "markdown",
      "source": [
        "#Ejemplo: cuadratura de Gauss a dos puntos"
      ],
      "metadata": {
        "id": "yhzViw5huzWC"
      }
    },
    {
      "cell_type": "code",
      "execution_count": 3,
      "metadata": {
        "id": "oShx7RYrqQZS"
      },
      "outputs": [],
      "source": [
        "#Código hecho por: Diana Ailed Hernández Bustos\n",
        "from  math import *\n",
        "import numpy as np\n",
        "import matplotlib.pyplot as plt\n",
        "from scipy.interpolate import CubicSpline\n",
        "import scipy.integrate as integrate\n",
        "from scipy.integrate import quad\n",
        "\n",
        "def CGauss2(n, a, b):\n",
        "    #Valores para n= 2\n",
        "    w = np.array([1, 1])\n",
        "    x = np.array([1/sqrt(3), -1/sqrt(3)])\n",
        "\n",
        "     #CÁLCULO:\n",
        "    k = (b-a)/2\n",
        "    xi = np.zeros([n])\n",
        "    suma = 0\n",
        "\n",
        "    for i in range(0, n): #Debe de funcionar para todos\n",
        "        xi[i] = (b+a)/2 + ((b-a)/2)*(x[i])\n",
        "        suma = suma + w[i]*fun(xi[i])\n",
        "    integral = k*suma\n",
        "    return integral\n",
        "\n",
        "def CGauss3(n, a, b):\n",
        "    #Valores para n= 2\n",
        "    w = np.array([5/9, 8/9, 5/9])\n",
        "    x = np.array([-sqrt(3/5), 0, sqrt(3/5)])\n",
        "    #CÁLCULO:\n",
        "    k = (b-a)/2\n",
        "    xi = np.zeros([n])\n",
        "    suma = 0\n",
        "\n",
        "    for i in range(0, n): #Debe de funcionar para todos\n",
        "        xi[i] = (b+a)/2 + ((b-a)/2)*(x[i])\n",
        "        suma = suma + w[i]*fun(xi[i])\n",
        "    integral = k*suma\n",
        "    return integral\n",
        "\n",
        "def CGauss4(n, a, b):\n",
        "    c1 = 0.3478548\n",
        "    c2 = 0.6521452\n",
        "    c3 = c2\n",
        "    c4 = c1\n",
        "    x1 = -0.86113631\n",
        "    x2 = -0.33998104\n",
        "    x3 = -x2\n",
        "    x4 = -x1\n",
        "\n",
        "    x = np.array([x1, x2, x3, x4])\n",
        "    w = np.array([c1, c2, c3, c4])\n",
        "\n",
        "    #CÁLCULO:\n",
        "    k = (b-a)/2\n",
        "    xi = np.zeros([n])\n",
        "    suma = 0\n",
        "\n",
        "    for i in range(0, n): #Debe de funcionar para todos\n",
        "        xi[i] = (b+a)/2 + ((b-a)/2)*(x[i])\n",
        "        suma = suma + w[i]*fun(xi[i])\n",
        "    integral = k*suma\n",
        "    return integral\n",
        "\n",
        "def CGauss5(n, a, b):\n",
        "    #Valores para n= 2\n",
        "    c1 = 0.2369269\n",
        "    c2 = 0.4786287\n",
        "    c3 = 0.5688889\n",
        "    x1 = -0.90617985\n",
        "    x2 = -0.53846931\n",
        "    x3 = 0\n",
        "    x4 = -x2\n",
        "    x5 = -x1\n",
        "\n",
        "    x = np.array([x1, x2, x3, x4, x5])\n",
        "    w = np.array([c1, c2, c3, c2, c1])\n",
        "\n",
        "     #CÁLCULO:\n",
        "    k = (b-a)/2\n",
        "    xi = np.zeros([n])\n",
        "    suma = 0\n",
        "\n",
        "    for i in range(0, n): #Debe de funcionar para todos\n",
        "        xi[i] = (b+a)/2 + ((b-a)/2)*(x[i])\n",
        "        suma = suma + w[i]*fun(xi[i])\n",
        "    integral = k*suma\n",
        "    return integral"
      ]
    },
    {
      "cell_type": "code",
      "source": [
        "# Función\n",
        "def fun(x):\n",
        "    return x*exp(x)\n",
        "\n",
        "n1 = np.array([2, 3, 4, 5]) #No cambiar esto\n",
        "k = 4\n",
        "\n",
        "#Datos:\n",
        "a = 1\n",
        "b = 2\n",
        "inte, err = integrate.quad(fun, a, b)\n",
        "A = inte # Valor analítico\n",
        "\n",
        "#Cálculos:\n",
        "print(\"RESULTADOS CON CUADRATURA DE GAUSS\\n\")\n",
        "print('{:^15}{:^20}{:^20}{:^20}'.format('n', 'Valor analítico' ,'Integral_ Gauss', 'Error %'))\n",
        "for i in range(0, 4):\n",
        "    n = n1[i]\n",
        "    if i == 0:\n",
        "        integral = CGauss2(n, a, b)\n",
        "    if i == 1:\n",
        "        integral = CGauss3(n, a, b)\n",
        "    if i == 2:\n",
        "        integral = CGauss4(n, a, b)\n",
        "    if i == 3:\n",
        "        integral = CGauss5(n, a, b)\n",
        "\n",
        "    et = (np.abs(A-integral)/A)*100\n",
        "    print('{:^15}{:^20.8f}{:^20.10f}{:^20.4e}'.format(n, A ,integral, et))"
      ],
      "metadata": {
        "colab": {
          "base_uri": "https://localhost:8080/"
        },
        "id": "eKDEV34yueMW",
        "outputId": "dac32d2e-2d34-47dc-cce9-88e0cbf90e88"
      },
      "execution_count": 4,
      "outputs": [
        {
          "output_type": "stream",
          "name": "stdout",
          "text": [
            "RESULTADOS CON CUADRATURA DE GAUSS\n",
            "\n",
            "       n         Valor analítico     Integral_ Gauss         Error %       \n",
            "       2            7.38905610         7.3832726466         7.8271e-02     \n",
            "       3            7.38905610         7.3890392640         2.2784e-04     \n",
            "       4            7.38905610         7.3890560127         1.1665e-06     \n",
            "       5            7.38905610         7.3890564802         5.1596e-06     \n"
          ]
        }
      ]
    }
  ]
}