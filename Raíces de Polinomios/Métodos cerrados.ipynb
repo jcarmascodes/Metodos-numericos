{
  "nbformat": 4,
  "nbformat_minor": 0,
  "metadata": {
    "colab": {
      "provenance": []
    },
    "kernelspec": {
      "name": "python3",
      "display_name": "Python 3"
    },
    "language_info": {
      "name": "python"
    }
  },
  "cells": [
    {
      "cell_type": "markdown",
      "source": [
        "#Raíces de ecuaciones: Métodos cerrados\n"
      ],
      "metadata": {
        "id": "pMaAP0h6Rmmm"
      }
    },
    {
      "cell_type": "code",
      "execution_count": 3,
      "metadata": {
        "id": "vZ8QOIo-RR5b"
      },
      "outputs": [],
      "source": [
        "#Código hecho por: Diana Ailed Hernández Bustos\n",
        "import  math as math\n",
        "import sympy as sym\n",
        "import numpy as np\n",
        "import matplotlib.pyplot as plt\n",
        "import scipy as sp\n",
        "from scipy.optimize import  root_scalar"
      ]
    },
    {
      "cell_type": "markdown",
      "source": [
        "#Ejemplo:\n",
        "#$f(c)=\\frac{9.8(68.1)}{c}(1-e^{-10(\\frac{c}{68.1})})-40$"
      ],
      "metadata": {
        "id": "9jenbfStSC3t"
      }
    },
    {
      "cell_type": "code",
      "source": [
        "#Definiendo la función\n",
        "def funcion(x):\n",
        "    return ((668.06/x)*(1-math.exp(-0.146843*x))) - 40"
      ],
      "metadata": {
        "id": "fqRmM_DiTDX8"
      },
      "execution_count": 4,
      "outputs": []
    },
    {
      "cell_type": "markdown",
      "source": [
        "#Método gráfico\n",
        "El método gráfico consiste solo en graficar la función y revisar en que valor la curva cruza al eje horizontal."
      ],
      "metadata": {
        "id": "ahsMU49OTVYC"
      }
    },
    {
      "cell_type": "code",
      "source": [
        "#Hago gráfica:\n",
        "k = 100\n",
        "x = np.linspace(5, 30, k)\n",
        "y = np.zeros(k)\n",
        "\n",
        "for i in range (k):\n",
        "    y[i] = funcion(x[i])\n",
        "\n",
        "plt.plot (x, y)\n",
        "plt.grid()\n",
        "plt.axhline(y=0,linewidth=1, c='k')\n",
        "#plt.axvline(x=0,linewidth=1, c='k')\n",
        "#plt.show()\n",
        "plt.title(\"Gráfica de función\")\n",
        "plt.xlabel(\"x\")\n",
        "plt.ylabel(\"f(x)\")"
      ],
      "metadata": {
        "colab": {
          "base_uri": "https://localhost:8080/",
          "height": 489
        },
        "id": "JBBSHMYOTvwY",
        "outputId": "d5a7e7a3-a167-469b-a666-0b57e5cf490d"
      },
      "execution_count": 5,
      "outputs": [
        {
          "output_type": "execute_result",
          "data": {
            "text/plain": [
              "Text(0, 0.5, 'f(x)')"
            ]
          },
          "metadata": {},
          "execution_count": 5
        },
        {
          "output_type": "display_data",
          "data": {
            "text/plain": [
              "<Figure size 640x480 with 1 Axes>"
            ],
            "image/png": "[encoded data removed]"
          },
          "metadata": {}
        }
      ]
    },
    {
      "cell_type": "markdown",
      "source": [
        "#Método de bisección\n",
        "El método de bisección consiste en los siguientes pasos:\n",
        "\n",
        "1. Se elige un valor bajo $x_l$ y valor alto $x_u$ en los cuales la función\n",
        "  evaluada en esos puntos cambia de signo, es decir, $f(x_l)*f(x_u)<0$.\n",
        "\n",
        "2. Se obtiene un valor medio dado por\n",
        "   \\begin{equation}\n",
        "    x_r=\\frac{x_l+x_u}{2}\n",
        "   \\end{equation}\n",
        "3. Se hacen las siguientes evaluaciones para determinar en que subintervalos la raíz existe:\n",
        "\n",
        " a) Si $f(x_l)*f(x_r)<0$, la raíz existe en el subintervalo inferior. Así, se\n",
        "asigna $x_u=x_r$ y se regresa al paso 2.\n",
        "\n",
        " b) Si $f(x_l)*f(x_r)>0$, la raiz existe en el subintervalo superior. Así, se asigna $x_l=x_r$ y se regresa al paso 2.\n",
        "\n",
        " c)  Si $f(x_l)*f(x_r)=0$ la raíz es igual a $x_r$, y termina el cálculo.   "
      ],
      "metadata": {
        "id": "mwAhfIatUHud"
      }
    },
    {
      "cell_type": "code",
      "source": [
        "def biseccion(x1, x2, xr, e):\n",
        "    count = 0\n",
        "\n",
        "    while abs(funcion(xr)) > e:\n",
        "        count += 1\n",
        "        xrold = xr\n",
        "        xr = (x1 + x2)/2\n",
        "\n",
        "        ea = abs((xr-xrold)/xr)*100\n",
        "\n",
        "        test = funcion(x1)*funcion(xr)\n",
        "\n",
        "        if test < 0:\n",
        "            x2 = xr\n",
        "\n",
        "        elif test > 0:\n",
        "            x1 = xr\n",
        "    return  count, xr, ea"
      ],
      "metadata": {
        "id": "SCmsInXvgE1s"
      },
      "execution_count": 6,
      "outputs": []
    },
    {
      "cell_type": "markdown",
      "source": [
        "#Método de la falsa posición\n",
        "El método de la falsa posición es una alternativa más eficiente que el método de bisección. Consiste en utilizar triángulos semejantes, en los cuales la línea recta con el eje X se puede estimar como\n",
        "\n",
        "\\begin{equation}\n",
        "    x_r=x_u-\\frac{f(x_u)(x_l-x_u)}{f(x_l)-f(x_u)}\n",
        "   \\end{equation}\n",
        "\n",
        "El valor calculado de $x_r$ calculado reemplaza cualquiera de los valores supuestos $x_l$ o $x_u$ hace produce el valor de una función con el mismo signo como $f(x_r)$. De esta manera, los valores de $x_l$ y $x_u$ siempre se acercan a la raiz real. El proceso se repite hasta que la raiz se estima adecuadamente. El algoritmo es el mismo que en el método de bisección, excepto que se usa la fórmula de arriba en el paso 2."
      ],
      "metadata": {
        "id": "VKrAUOdAgP16"
      }
    },
    {
      "cell_type": "code",
      "source": [
        "def falsa(x1, x2, xr, e):\n",
        "    count = 0\n",
        "\n",
        "    while abs(funcion(xr)) > e:\n",
        "        count += 1\n",
        "        xrold = xr\n",
        "        xr = x2 - (funcion(x2)*(x1-x2) / ((funcion(x1) - funcion(x2))))\n",
        "\n",
        "        ea = abs((xr-xrold)/xr)*100\n",
        "\n",
        "        test = funcion(x1)*funcion(xr)\n",
        "\n",
        "        if test < 0:\n",
        "            x2 = xr\n",
        "\n",
        "        elif test > 0:\n",
        "            x1 = xr\n",
        "    return  count, xr, ea"
      ],
      "metadata": {
        "id": "skNJMKZ2l1Va"
      },
      "execution_count": 8,
      "outputs": []
    },
    {
      "cell_type": "markdown",
      "source": [
        "#Resultados utilizando librería roots\n",
        "A continuación se muestran los resultados del código precedente y se compara con los elementos de la librería roots."
      ],
      "metadata": {
        "id": "LCnBnrtLl8ih"
      }
    },
    {
      "cell_type": "code",
      "source": [
        "#Resultados utilizando x1= 12 y x2= 16 y una raíz con un f(x) permitido a 1e-6, denominado \"e\"\n",
        "x1 = 12\n",
        "x2 = 16\n",
        "e = 1e-6\n",
        "xr = (x1 + x2)/2\n",
        "\n",
        "#Resultados de bisección:\n",
        "raiz = biseccion(x1, x2, xr, e)\n",
        "\n",
        "print (\"RESULTADOS MÉTODO BISECCIÓN\\n\")\n",
        "print (\"Número de iteraciones es:  {}\".format(raiz[0]))\n",
        "print (\"La raíz es: {:.9f} \".format(raiz[1]))\n",
        "print(\"El error aproximado % es de: {:.9f} \".format(raiz[2]))\n",
        "print (\"La raíz evaluada es de: {:.9f} \\n\\n\". format(funcion(raiz[1])))\n",
        "\n",
        "#Resultados de la falsa posición:\n",
        "xr2 = x2 - (funcion(x2)*(x1-x2) / (funcion(x1) - funcion(x2)))\n",
        "raizp = falsa(x1, x2, xr2, e)\n",
        "\n",
        "print (\"RESULTADOS MÉTODO FALSA POSICIÓN \\n\")\n",
        "print (\"Número de iteraciones es:  {}\".format(raizp[0]))\n",
        "print (\"La raíz es: {:.9f} \".format(raizp[1]))\n",
        "print(\"El error aproximado % es de: {:.9f} \".format(raizp[2]))\n",
        "print (\"La raíz evaluada es de: {:.9f} \\n\\n\". format(funcion(raizp[1])))\n",
        "\n",
        "#Roots\n",
        "sol= root_scalar(funcion, method='bisect', bracket=[x1,x2])\n",
        "#print(sol)\n",
        "print (\"RESULTADOS MÉTODO BISECCIÓN CON ROOTS \\n\")\n",
        "print(\"La raíz es: {:.9f}\".format(sol.root))"
      ],
      "metadata": {
        "colab": {
          "base_uri": "https://localhost:8080/"
        },
        "id": "TrxttFMrmfeq",
        "outputId": "cdbe5357-5f95-477f-c0d1-23e4a9da4786"
      },
      "execution_count": 9,
      "outputs": [
        {
          "output_type": "stream",
          "name": "stdout",
          "text": [
            "RESULTADOS MÉTODO BISECCIÓN\n",
            "\n",
            "Número de iteraciones es:  22\n",
            "La raíz es: 14.801110268 \n",
            "El error aproximado % es de: 0.000006443 \n",
            "La raíz evaluada es de: -0.000000582 \n",
            "\n",
            "\n",
            "RESULTADOS MÉTODO FALSA POSICIÓN \n",
            "\n",
            "Número de iteraciones es:  7\n",
            "La raíz es: 14.801110168 \n",
            "El error aproximado % es de: 0.000011169 \n",
            "La raíz evaluada es de: -0.000000387 \n",
            "\n",
            "\n",
            "RESULTADOS MÉTODO BISECCIÓN CON ROOTS \n",
            "\n",
            "La raíz es: 14.801109969\n"
          ]
        }
      ]
    }
  ]
}
