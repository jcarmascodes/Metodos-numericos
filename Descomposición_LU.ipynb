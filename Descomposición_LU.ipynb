{
  "nbformat": 4,
  "nbformat_minor": 0,
  "metadata": {
    "colab": {
      "provenance": []
    },
    "kernelspec": {
      "name": "python3",
      "display_name": "Python 3"
    },
    "language_info": {
      "name": "python"
    }
  },
  "cells": [
    {
      "cell_type": "markdown",
      "source": [
        "#Método de descomposición LU\n",
        "Aunque la eliminación de Gauss representa una forma satisfactoria para resolver sistemas de ecuaciones, resulta ineficiente cuando deben resolverse ecuaciones con los mismos coeficientes $[A]$, pero con diferentes constantes de $b$.\n",
        "\n",
        "Un motivo de introducir el método de descomposición LU es que proporciona un medio eficiente para calcular la matriz inversa, la cual tiene muchas aplicaciones.\n",
        "\n",
        "El procecidimiento para realizar la resolución de ecuaciones por eliminación utilizando descomposición LU es el siguiente:\n",
        "\n",
        "El primer paso es multiplicar el renglón 1 del sistema de ecuaciones por el factor (recordando eliminación de Gauss):\n",
        "\n",
        "$f_{21}=\\frac{a_{21}}{a_{11}}$\n",
        "\n",
        "luego, este factor se le resta el segundo renglón para eliminar $a_{21}$. De forma similar, el renglón 1 se multiplica por\n",
        "\n",
        "$f_{31}=\\frac{a_{31}}{a_{11}}$\n",
        "\n",
        "y el resultado se resta al tercer renglón para eliminar $a_{31}$. El paso final es multiplicar el segundo renglón modificado por\n",
        "\n",
        "$f_{32}=\\frac{a_{32}'}{a_{22}'}$\n",
        "\n",
        "y restar el resultado al tercer renglón para eliminar $a_{32}'$. Entonces la matriz $[A]$ de $3\\times 3$ se describe como\n",
        "\\begin{equation}\n",
        "\\begin{bmatrix}\n",
        "a_{11}&a_{12}&a_{13}\\\\\n",
        "f_{21}&a_{22}'&a_{23}'\\\\\n",
        "f_{32}&f_{32}&a_{33}''\n",
        "\\end{bmatrix}\n",
        "\\end{equation}\n",
        "esta es la descomposición LU de $[A]$ donde\n",
        "\\begin{equation}\n",
        "[U]=\n",
        "\\begin{bmatrix}\n",
        "a_{11}&a_{12}&a_{13}\\\\\n",
        "0&0&a_{23}'\\\\\n",
        "0&0&a_{33}''\n",
        "\\end{bmatrix}\n",
        "\\end{equation}\n",
        "y\n",
        "\\begin{equation}\n",
        "[L]=\n",
        "\\begin{bmatrix}\n",
        "1&0&0\\\\\n",
        "f_{21}&1&0\\\\\n",
        "f_{32}&f_{32}&1\n",
        "\\end{bmatrix}\n",
        "\\end{equation}\n",
        "una vez echo esto, se procede a encontrar $\\{D\\}$ con la relación $[L]\\{D\\}=\\{B\\}$ mediante sustitución hacia adelante. Después el resultado se sustituye en $[U]\\{X\\}=\\{D\\}$ que se resuelve con sustitución hacia atrás para encontrar $\\{X\\}$."
      ],
      "metadata": {
        "id": "EcjxPlR3g2Px"
      }
    },
    {
      "cell_type": "markdown",
      "source": [
        "#Ejemplo\n",
        "Resolver el sistema de ecuaciones:\n",
        "\\begin{eqnarray}\n",
        "3x_1-0.1x_2-0.2x_3=7.85\\\\\n",
        "0.1x_1+7x_2-0.3x_3=-19.3\\\\\n",
        "0.3x_1-0.2x_2+10x_3=71.4\n",
        "\\nonumber\n",
        "\\end{eqnarray}"
      ],
      "metadata": {
        "id": "YtKCU1HzFhas"
      }
    },
    {
      "cell_type": "code",
      "execution_count": 1,
      "metadata": {
        "id": "HQdAVZsMgtwF"
      },
      "outputs": [],
      "source": [
        "#Código hecho por:\n",
        "import numpy as np\n",
        "#Datos:\n",
        "a = np.array([[3, -0.1, -0.2],[0.1, 7, -0.3], [0.3, -0.2, 10]])\n",
        "b = np.array([7.85, -19.3, 71.4])\n",
        "A = np.copy(a)\n",
        "aa= np.copy(a)\n",
        "m = len(a)\n",
        "factor = np.zeros([m, m])\n",
        "L2= np.zeros([m,m])\n",
        "\n",
        "#Vectores que voy a encontrar:\n",
        "x = np.zeros([m])\n",
        "d = np.zeros([m])"
      ]
    },
    {
      "cell_type": "code",
      "source": [
        "# Funciones de descomposición de matriz a:\n",
        "def descompose_U(m, a):\n",
        "    for i in range (0, m-1):\n",
        "        for k in range (i+1, m):\n",
        "            factor [k, i] = a[k, i]/ a[i, i]\n",
        "            a[k,:]= a[k,:]-a[i,:]*factor[k, i]\n",
        "        #print(\"\\nReconstruyendo queda la sig. matriz\")\n",
        "        #print(a)\n",
        "    U = a\n",
        "    return (U)\n",
        "\n",
        "def descompose_L(m, aa, factor):\n",
        "    for i in range (0, m):\n",
        "        for k in range (0, m):\n",
        "            if i ==k:\n",
        "                L2[i,k]=1\n",
        "            if i<k:\n",
        "                L2[k,i]=factor [k, i]\n",
        "\n",
        "    return (L2)\n",
        "\n",
        "def vector_d(m, L, b, d):\n",
        "    for i in range (0, m):\n",
        "        if i == 0:\n",
        "            d[i] = b[i]/ L[i, i]\n",
        "\n",
        "        else:\n",
        "            sumatoria=0\n",
        "            for r in range(0, m):\n",
        "                sumatoria = sumatoria + L[i,r]*d[r]\n",
        "                #print(sumatoria)\n",
        "            d[i]=(b[i]-sumatoria)/L[i,i]\n",
        "\n",
        "    return d\n",
        "\n",
        "def vector_x(m, U, d, x):\n",
        "    for i in range (m-1, -1, -1):\n",
        "        if i == (m-1):\n",
        "            x[i] = d[i]/ U[i, i]\n",
        "\n",
        "        else:\n",
        "            sumatoria=0\n",
        "            for r in range(0,m):\n",
        "                sumatoria = sumatoria + U[i,r]*x[r]\n",
        "                #print(sumatoria)\n",
        "            x[i]=(d[i]-sumatoria)/U[i,i]\n",
        "\n",
        "    return x"
      ],
      "metadata": {
        "id": "ZrDc9n4DHUsH"
      },
      "execution_count": 2,
      "outputs": []
    },
    {
      "cell_type": "markdown",
      "source": [
        "# El código se debe correr solo una vez"
      ],
      "metadata": {
        "id": "CwPkBQjPHiOq"
      }
    },
    {
      "cell_type": "code",
      "source": [
        "#Resultados:\n",
        "print(\"La matriz inicial es:\")\n",
        "print(A)\n",
        "\n",
        "U = descompose_U(m, a)\n",
        "print(\"\\nLa matriz factor es: \")\n",
        "print(factor)\n",
        "print(\"\\nLa matriz U es: \")\n",
        "print(U)\n",
        "\n",
        "L = descompose_L(m, aa, factor)\n",
        "print(\"\\nLa matriz L es: \")\n",
        "print(L)\n",
        "\n",
        "d = vector_d (m, L, b, d)\n",
        "print(\"\\nEl vector d queda: \")\n",
        "print(d)\n",
        "\n",
        "x = vector_x (m, U ,d, x)\n",
        "print(\"\\nEl vector x queda: \")\n",
        "print(x)"
      ],
      "metadata": {
        "colab": {
          "base_uri": "https://localhost:8080/"
        },
        "id": "FKRqJHTVHmU2",
        "outputId": "cb4b10e4-9b64-448d-b5c4-9614ad021508"
      },
      "execution_count": 3,
      "outputs": [
        {
          "output_type": "stream",
          "name": "stdout",
          "text": [
            "La matriz inicial es:\n",
            "[[ 3.  -0.1 -0.2]\n",
            " [ 0.1  7.  -0.3]\n",
            " [ 0.3 -0.2 10. ]]\n",
            "\n",
            "La matriz factor es: \n",
            "[[ 0.          0.          0.        ]\n",
            " [ 0.03333333  0.          0.        ]\n",
            " [ 0.1        -0.02712994  0.        ]]\n",
            "\n",
            "La matriz U es: \n",
            "[[ 3.         -0.1        -0.2       ]\n",
            " [ 0.          7.00333333 -0.29333333]\n",
            " [ 0.          0.         10.01204188]]\n",
            "\n",
            "La matriz L es: \n",
            "[[ 1.          0.          0.        ]\n",
            " [ 0.03333333  1.          0.        ]\n",
            " [ 0.1        -0.02712994  1.        ]]\n",
            "\n",
            "El vector d queda: \n",
            "[  7.85       -19.56166667  70.08429319]\n",
            "\n",
            "El vector x queda: \n",
            "[ 3.  -2.5  7. ]\n"
          ]
        }
      ]
    },
    {
      "cell_type": "markdown",
      "source": [
        "#Usando librería"
      ],
      "metadata": {
        "id": "3zqbW3WqHvzu"
      }
    },
    {
      "cell_type": "code",
      "source": [
        "import pprint\n",
        "import scipy\n",
        "import scipy.linalg\n",
        "import numpy as np"
      ],
      "metadata": {
        "id": "pclU2zSMHyHo"
      },
      "execution_count": 4,
      "outputs": []
    },
    {
      "cell_type": "code",
      "source": [
        "A = np.array([[3, -0.1, -0.2],[0.1, 7, -0.3], [0.3, -0.2, 10]])\n",
        "B = np.array([7.85, -19.3, 71.4])\n",
        "P , L, U =scipy.linalg.lu(A)\n",
        "\n",
        "print(\"Matriz A\")\n",
        "pprint.pprint(A)\n",
        "print(\"\\nMatriz P\")\n",
        "pprint.pprint(P)\n",
        "print(\"\\nMatriz L\")\n",
        "pprint.pprint(L)\n",
        "print(\"\\nMatriz U\")\n",
        "pprint.pprint(U)\n",
        "\n",
        "#Para obtener el valor de x directamente:\n",
        "y = np.linalg.solve(A, B) #Así se resuelve\n",
        "print(\"\\nEl resultado de x es: \")\n",
        "print(y)"
      ],
      "metadata": {
        "colab": {
          "base_uri": "https://localhost:8080/"
        },
        "id": "gnVWLX4WIErY",
        "outputId": "d5dad6bd-7a9d-4ec9-e6f9-52fa94b20f34"
      },
      "execution_count": 5,
      "outputs": [
        {
          "output_type": "stream",
          "name": "stdout",
          "text": [
            "Matriz A\n",
            "array([[ 3. , -0.1, -0.2],\n",
            "       [ 0.1,  7. , -0.3],\n",
            "       [ 0.3, -0.2, 10. ]])\n",
            "\n",
            "Matriz P\n",
            "array([[1., 0., 0.],\n",
            "       [0., 1., 0.],\n",
            "       [0., 0., 1.]])\n",
            "\n",
            "Matriz L\n",
            "array([[ 1.        ,  0.        ,  0.        ],\n",
            "       [ 0.03333333,  1.        ,  0.        ],\n",
            "       [ 0.1       , -0.02712994,  1.        ]])\n",
            "\n",
            "Matriz U\n",
            "array([[ 3.        , -0.1       , -0.2       ],\n",
            "       [ 0.        ,  7.00333333, -0.29333333],\n",
            "       [ 0.        ,  0.        , 10.01204188]])\n",
            "\n",
            "El resultado de x es: \n",
            "[ 3.  -2.5  7. ]\n"
          ]
        }
      ]
    }
  ]
}